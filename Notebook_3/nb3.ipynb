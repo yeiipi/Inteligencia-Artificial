{
 "cells": [
  {
   "cell_type": "markdown",
   "metadata": {
    "colab_type": "text",
    "id": "TpmFfXsQ0dYI"
   },
   "source": [
    "<table>\n",
    "    <tr>\n",
    "        <td><img src=\"./imagenes/Macc.png\" width=\"400\"/></td>\n",
    "        <td>&nbsp;</td>\n",
    "        <td>\n",
    "            <h1 style=\"color:blue;text-align:left\">Inteligencia Artificial</h1></td>\n",
    "        <td>\n",
    "            <table><tr>\n",
    "            <tp><p style=\"font-size:150%;text-align:center\">Notebook 3</p></tp>\n",
    "            <tp><p style=\"font-size:150%;text-align:center\">Búsqueda en espacio de estados (2/3) </p></tp>\n",
    "            </tr></table>\n",
    "        </td>\n",
    "    </tr>\n",
    "</table>\n",
    "\n",
    "---"
   ]
  },
  {
   "cell_type": "markdown",
   "metadata": {
    "colab_type": "text",
    "id": "V3SkDSWJ0dYJ"
   },
   "source": [
    "## Objetivo\n",
    "\n",
    "En este notebook vamos a expandir el abanico de algoritmos de búsqueda a ciegas en un espacio de estados y luego vamos a incluir la consideración del costo del camino a seguir. \n",
    "\n",
    "Comenzaremos implementando los algoritmos `depth_limited_search` e `iterative_deepening_search` y los aplicaremos a la solución de problemas. \n",
    "\n",
    "A continuación, para poder considerar el costo del camino a seguir, vamos a \n",
    "definir una lista prioritaria y mostraremos una posible implementación en Python. Analizaremos también la manera en la cual tanto el ambiente de tarea como el árbol de busqueda involucran el costo de las acciones. \n",
    "\n",
    "Posteriormente, definiremos el algoritmo general de búsqueda basada en funciones de evaluación, llamado `best_first_search` para encontrar la solución más eficiente en el problema de las jarras de agua.\n",
    "\n",
    "Finalmente, usaremos los cuatro métodos para comparar su eficiencia en la búsqueda de una solución para el problema del laberinto.\n",
    "\n",
    "Adaptado de (Russell & Norvig, 2020), secciones 3.3 y 3.4.4."
   ]
  },
  {
   "cell_type": "markdown",
   "metadata": {
    "colab_type": "text",
    "id": "5HnQ_gA70dYL"
   },
   "source": [
    "## Secciones\n",
    "\n",
    "Desarrollaremos la explicación de la siguiente manera:\n",
    "\n",
    "* [Estrategia de búsqueda depth limited](#limited).\n",
    "* [Estrategia de búsqueda iterative deepening](#iterative).\n",
    "* [Listas prioritarias](#listas).\n",
    "* [Costos](#costos).\n",
    "* [Estrategia de búsqueda best first search](#best).\n",
    "* [Problema del laberinto](#laberinto).\n",
    "\n"
   ]
  },
  {
   "cell_type": "markdown",
   "metadata": {},
   "source": [
    "## Depth limited search <a class=\"anchor\" id=\"limited\"></a>\n",
    "    \n",
    "En el notebook anterior hemos visto un algoritmo recursivo de `backtracking_search` que funcionaba bien en el caso de las 8 reinas, pero que superaba el umbral de memoria en el problema de las jarras de agua. Esta dificultad residía en el hecho de que el camino de búsqueda puede generar ciclos, lo cual conlleva a que el algoritmo se quede atascado en un bucle infinito. La solución que dimos en su momento fue el algoritmo `depth_first_search`, el cual lleva la cuenta de cuáles estados se exploran, de tal manera que no se vuelva a explorar uno ya explorado.\n",
    "\n",
    "Un compromiso entre la solución eficiente en memoria del `backtracking_search` y del efectivo `depth_limited_search` es el `depth_limited_search`. En este algoritmo tendremos una profundidad límite para los nodos, que nunca podremos superar. Además, no guardaremos en memoria una lista de cuáles estados ya revisamos, sino que usaremos una función para verificar si el nodo que estamos explorando se generó mediante un camino cíclico. \n",
    "\n",
    "La complejidad en tiempo de este algoritmo es, en el peor de los casos, igual a los algoritmos `depth_first_search` y `breadth_first_search`. No obstante, el hecho de no guardar una lista de explorados hace que la complejidad en memoria sea lineal, es decir, mucho mejor que la de aquellos algoritmos. \n",
    "\n",
    "Antes de mirar el pseudocódigo del algoritmo, consideremos con más detalle cómo encontrar la profundidad de un nodo y cómo verificar si proviene de un camino cíclico.\n",
    "\n",
    "La profundidad de un nodo, también conocida como su altura, es la cantidad de aristas desde la raíz hasta él. Por tanto, la raíz tiene profundidad 0, sus hijos tienen profundidad 1, los hijos de sus hijos tienen profundidad 2, etc.\n",
    "\n",
    "Recuerde que un nodo es un objeto con atributos `estado`, `madre`, `accion`, `costo_camino`, `codigo`.\n"
   ]
  },
  {
   "cell_type": "code",
   "execution_count": 1,
   "metadata": {},
   "outputs": [],
   "source": [
    "from ambientes import JarrasAgua\n",
    "from busqueda import *"
   ]
  },
  {
   "cell_type": "code",
   "execution_count": 2,
   "metadata": {
    "tags": []
   },
   "outputs": [],
   "source": [
    "prob = JarrasAgua()\n",
    "s = prob.estado_inicial\n",
    "n = Nodo(s, None, None, 0, prob.codigo(s))\n",
    "n1 = nodo_hijo(prob, n, 1)\n",
    "n2 = nodo_hijo(prob, n1, 5)\n",
    "n2 = nodo_hijo(prob, n1, 5)\n",
    "n3 = nodo_hijo(prob, n2, 6)"
   ]
  },
  {
   "cell_type": "markdown",
   "metadata": {
    "tags": []
   },
   "source": [
    "**Ejercicio 1:**\n",
    "\n",
    "Implemente la función recursiva `depth` que recibe un nodo y retorna su profundidad (altura). Pruebe su solución con el siguiente nodo `n3`:"
   ]
  },
  {
   "cell_type": "code",
   "execution_count": 3,
   "metadata": {},
   "outputs": [
    {
     "name": "stdout",
     "output_type": "stream",
     "text": [
      "La profundidad del nodo es de 3\n"
     ]
    }
   ],
   "source": [
    "prof = depth(n3)\n",
    "print(f\"La profundidad del nodo es de {prof}\")"
   ]
  },
  {
   "cell_type": "markdown",
   "metadata": {},
   "source": [
    "**Ejercicio 2:**\n",
    "\n",
    "Implemente la función `is_cycle` que toma un nodo y devuelve un valor de verdad, dependiendo si el camino de estados que va desde la raíz hasta él tiene ciclos. Pruebe su función con el nodo `n3` definido anteriormente. "
   ]
  },
  {
   "cell_type": "code",
   "execution_count": 4,
   "metadata": {},
   "outputs": [
    {
     "name": "stdout",
     "output_type": "stream",
     "text": [
      "El nodo es ciclo: True\n"
     ]
    }
   ],
   "source": [
    "val = is_cycle(n3)\n",
    "print(f\"El nodo es ciclo: {val}\")"
   ]
  },
  {
   "cell_type": "markdown",
   "metadata": {},
   "source": [
    "**Ayuda:** Pruebe definiendo primero una función recursiva que encuentra los códigos de todos los estados en el camino y luego verifique si hay repetidos."
   ]
  },
  {
   "cell_type": "markdown",
   "metadata": {},
   "source": [
    "---"
   ]
  },
  {
   "cell_type": "markdown",
   "metadata": {},
   "source": [
    "El siguiente es el pseudocódigo del algoritmo de búsqueda `depth_limited_search`:\n",
    "\n",
    "<div style=\"background-color:rgba(0, 0, 0, 0.0470588); padding:10px 0;font-family:monospace;\">\n",
    "<font style=\"font-weight: bold;\" color = \"red\">function</font> depth_limited_search(<font style=\"font-style: italic;\">problema</font>, <font style=\"font-style: italic;\">l</font>) <font style=\"font-weight: bold;\" color = \"red\">returns</font> solución o falla o cutoff <br>\n",
    "&nbsp;&nbsp; <font style=\"font-style: italic;\">nodo</font> &#8592; NODO(<font style=\"font-style: italic;\">problema</font>.estado_inicial) <br>\n",
    "&nbsp;&nbsp; <font style=\"font-style: italic;\">frontera</font> &#8592; lista LIFO con <font style=\"font-style: italic;\">nodo</font> como único elemento <br>\n",
    "&nbsp;&nbsp; <font style=\"font-style: italic;\">resultado</font> &#8592; falla <br>\n",
    "&nbsp;&nbsp; <font style=\"font-weight: bold;\" color = \"red\">While not</font> VACIA(<font style=\"font-style: italic;\">frontera</font>) <font style=\"font-weight: bold;\" color = \"red\">do</font> <br> \n",
    "&nbsp;&nbsp;&nbsp;&nbsp; <font style=\"font-style: italic;\">nodo</font> &#8592; POP(<font style=\"font-style: italic;\">frontera</font>) <br>\n",
    "&nbsp;&nbsp;&nbsp;&nbsp; <font style=\"font-weight: bold;\" color = \"red\">if</font> <font style=\"font-style: italic;\">problema</font>.test_objetivo(<font style=\"font-style: italic;\">nodo</font>.estado) <font style=\"font-weight: bold;\" color = \"red\">then return</font> <font style=\"font-style: italic;\">nodo</font> <br>\n",
    "&nbsp;&nbsp;&nbsp;&nbsp; <font style=\"font-weight: bold;\" color = \"red\">if</font> DEPTH(<font style=\"font-style: italic;\">nodo</font>) &#62;= <font style=\"font-style: italic;\">l</font> <font style=\"font-weight: bold;\" color = \"red\">then</font> <br>\n",
    "&nbsp;&nbsp;&nbsp;&nbsp;&nbsp;&nbsp; <font style=\"font-style: italic;\">resultado</font> &#8592; cutoff <br>\n",
    "&nbsp;&nbsp;&nbsp;&nbsp; <font style=\"font-weight: bold;\" color = \"red\">else if not</font> IS_CYCLE(<font style=\"font-style: italic;\">nodo</font>) <font style=\"font-weight: bold;\" color = \"red\">do</font> <br> \n",
    "&nbsp;&nbsp;&nbsp;&nbsp;&nbsp;&nbsp; <font style=\"font-weight: bold;\" color = \"red\">for each</font> <font style=\"font-style: italic;\">hijo</font> <font style=\"font-weight: bold;\" color = \"red\">in</font> EXPAND(<font style=\"font-style: italic;\">problema</font>, <font style=\"font-style: italic;\">nodo</font>) <font style=\"font-weight: bold;\" color = \"red\">do</font> <br>\n",
    "&nbsp;&nbsp;&nbsp;&nbsp;&nbsp;&nbsp;&nbsp;&nbsp; ADD(<font style=\"font-style: italic;\">hijo</font>, <font style=\"font-style: italic;\">frontera</font>)<br>\n",
    "&nbsp;&nbsp; <font style=\"font-weight: bold;\" color = \"red\">return</font> <font style=\"font-style: italic;\">resultado</font>  <br>\n",
    "</div>\n",
    "\n",
    "<div style=\"background-color:rgba(0, 0, 0, 0.0470588); padding:10px 0;font-family:monospace;\">\n",
    "<font style=\"font-weight: bold;\" color = \"red\">function</font> EXPAND(<font style=\"font-style: italic;\">problema</font>, <font style=\"font-style: italic;\">nodo</font>) <font style=\"font-weight: bold;\" color = \"red\">returns</font> <font style=\"font-style: italic;\">nodos</font> <br>\n",
    "&nbsp;&nbsp; <font style=\"font-style: italic;\">s</font> &#8592; <font style=\"font-style: italic;\">nodo</font>.estado <br>\n",
    "&nbsp;&nbsp;  <font style=\"font-style: italic;\">nodos</font> &#8592; lista LIFO vacía <br>\n",
    "&nbsp;&nbsp;  <font style=\"font-weight: bold;\" color = \"red\">for each</font> <font style=\"font-style: italic;\">accion</font> <font style=\"font-weight: bold;\" color = \"red\">in</font> <font style=\"font-style: italic;\">problema</font>.acciones_aplicables(<font style=\"font-style: italic;\">s</font>) <font style=\"font-weight: bold;\" color = \"red\">do</font> <br>\n",
    "&nbsp;&nbsp;&nbsp;&nbsp;  <font style=\"font-style: italic;\">hijo</font> &#8592; nodo_hijo(<font style=\"font-style: italic;\">problema</font>, <font style=\"font-style: italic;\">nodo</font>, <font style=\"font-style: italic;\">accion</font>) <br>\n",
    "&nbsp;&nbsp;&nbsp;&nbsp; ADD(<font style=\"font-style: italic;\">hijo</font>, <font style=\"font-style: italic;\">nodos</font>)<br>\n",
    "&nbsp;&nbsp; <font style=\"font-weight: bold;\" color = \"red\">return</font> nodos <br>\n",
    "</div>\n",
    "\n",
    "Hay dos anotaciones importantes que debemos mencionar aquí. Observe que para expandir un nodo se está usando una lista obtenida mediante la función `expand`, la cual proporciona todos los nodos hijo que se obtienen a partir de un nodo madre mediante cada una de las acciones aplicables. Además, la verificación de la prueba de satisfacción de objetivo se realiza al explorar la frontera, no al expandir un nodo. Sobre esto volveremos más adelante.\n"
   ]
  },
  {
   "cell_type": "markdown",
   "metadata": {},
   "source": [
    "**Ejercicio 3:**\n",
    "\n",
    "Implemente el algoritmo de búsqueda `depth_limited_search` e intente resolver el problema de las jarras de agua a profundidad 4, 5, 6 y 10."
   ]
  },
  {
   "cell_type": "code",
   "execution_count": 5,
   "metadata": {},
   "outputs": [
    {
     "name": "stdout",
     "output_type": "stream",
     "text": [
      "depth_limited_search a profundidad 4\n",
      "A profundidad 4 no se encontró solución\n",
      "depth_limited_search a profundidad 5\n",
      "A profundidad 5 no se encontró solución\n",
      "depth_limited_search a profundidad 6\n",
      "La solución encontrada con profundidad 6 es igual a [2, 6, 2, 6, 3, 6]\n",
      "depth_limited_search a profundidad 10\n",
      "La solución encontrada con profundidad 10 es igual a [2, 6, 3, 1, 5, 4, 5, 1, 5]\n"
     ]
    }
   ],
   "source": [
    "for p in [4,5,6,10]:\n",
    "    print(f\"depth_limited_search a profundidad {p}\")\n",
    "    x = depth_limited_search(prob,p)\n",
    "    if x is not None:\n",
    "        if x == 'cutoff':\n",
    "            print(f\"A profundidad {p} no se encontró solución\")\n",
    "        else:\n",
    "            path = solucion(x)\n",
    "            print(f\"La solución encontrada con profundidad {p} es igual a {path}\")"
   ]
  },
  {
   "cell_type": "markdown",
   "metadata": {},
   "source": [
    "---"
   ]
  },
  {
   "cell_type": "markdown",
   "metadata": {},
   "source": [
    "## Iterative deepening search <a class=\"anchor\" id=\"iterative\"></a>\n",
    "\n",
    "Cuando no conocemos la profundidad a la que se encuentra la solución, dar un límite cualquiera puede no ser adecuado. Por ejemplo, podemos dar una profundidad muy pandita y corremos el riesgo de no encontrar la solución. Resulta más sistemático ejecutar esta búsqueda intentando todas las profundidades: primero profundidad 0, luego 1, luego 2, etc. De esta manera, podremos tener la seguridad de encontrar la solución óptima (a menor profundidad). \n",
    "\n",
    "El siguiente es un esquema de este algoritmo de búsqueda:\n",
    "\n",
    "<img src=\"./imagenes/iterative-deepening.png\" width=\"500px\"/>\n",
    "\n",
    "Y el siguiente es el pseudocódigo respectivo:\n",
    "\n",
    "<div style=\"background-color:rgba(0, 0, 0, 0.0470588); padding:10px 0;font-family:monospace;\">\n",
    "<font style=\"font-weight: bold;\" color = \"red\">function</font> iterative_deepening_search(<font style=\"font-style: italic;\">problema</font>, <font style=\"font-style: italic;\">l_max</font>) <font style=\"font-weight: bold;\" color = \"red\">returns</font> solución o falla <br>\n",
    "&nbsp;&nbsp; <font style=\"font-weight: bold;\" color = \"red\">For</font> <font style=\"font-style: italic;\">depth</font> = 0 <font style=\"font-weight: bold;\" color = \"red\">to</font> <font style=\"font-style: italic;\">l_max</font> <font style=\"font-weight: bold;\" color = \"red\">do</font> <br> \n",
    "&nbsp;&nbsp;&nbsp;&nbsp; <font style=\"font-style: italic;\">resultado</font> &#8592; depth_limited_search(<font style=\"font-style: italic;\">problema</font>, <font style=\"font-style: italic;\">depth</font>) <br>\n",
    "&nbsp;&nbsp;&nbsp;&nbsp; <font style=\"font-weight: bold;\" color = \"red\">if</font> <font style=\"font-style: italic;\">resultado</font> &#8800; cutoff <font style=\"font-weight: bold;\" color = \"red\">then return</font> <font style=\"font-style: italic;\">resultado</font> <br>\n",
    "</div>\n"
   ]
  },
  {
   "cell_type": "markdown",
   "metadata": {},
   "source": [
    "**Ejercicio 4:**\n",
    "\n",
    "Implemente la función `iterative_deepening_search`y resuelva el problema de las jarras de agua con profundidad máxima 10."
   ]
  },
  {
   "cell_type": "code",
   "execution_count": 6,
   "metadata": {},
   "outputs": [
    {
     "name": "stdout",
     "output_type": "stream",
     "text": [
      "Buscando en el nivel 0\n",
      "Buscando en el nivel 1\n",
      "Buscando en el nivel 2\n",
      "Buscando en el nivel 3\n",
      "Buscando en el nivel 4\n",
      "Buscando en el nivel 5\n",
      "Buscando en el nivel 6\n",
      "La solución encontrada con profundidad límite 10 es igual a [2, 6, 2, 6, 3, 6]\n"
     ]
    }
   ],
   "source": [
    "P = 10\n",
    "n = iterative_deepening_search(prob,P)\n",
    "if n is None:\n",
    "    print(f\"A profundidad límite {P} no se encontró solución\")\n",
    "else:\n",
    "    s = solucion(n)\n",
    "    print(f\"La solución encontrada con profundidad límite {P} es igual a {s}\")"
   ]
  },
  {
   "cell_type": "markdown",
   "metadata": {},
   "source": [
    "---"
   ]
  },
  {
   "cell_type": "markdown",
   "metadata": {},
   "source": [
    "## Listas prioritarias <a class=\"anchor\" id=\"listas\"></a>\n",
    "\n",
    "En una lista prioritaria, los elementos tienen una prioridad de acuerdo a su respectivo valor de acuerdo a una función de evaluación $f$. De esta manera, la acción POP remueve y retorna el elemento prioritario, que es aquel con valor mínimo de acuerdo a $f$. Cuando dos elementos tienen la misma prioridad, el último elemento en ser incluido es el primero en salir.\n",
    "\n",
    "Existen librerías que proporcionan objetos que implementan listas prioritarias, como <a href=\"https://pypi.org/project/HeapDict/\">heapdict</a>. Aquí utilizaremos el siguiente objeto `ListaPrioritaria` para implementar las listas prioritarias:"
   ]
  },
  {
   "cell_type": "code",
   "execution_count": 7,
   "metadata": {},
   "outputs": [],
   "source": [
    "import numpy as np\n",
    "\n",
    "class ListaPrioritaria():\n",
    "    \n",
    "    def __init__(self):\n",
    "        self.diccionario = {}\n",
    "        \n",
    "    def __str__(self):\n",
    "        cadena = '['\n",
    "        inicial = True\n",
    "        for costo in self.diccionario:\n",
    "            elementos = self.diccionario[costo]\n",
    "            for elemento in elementos:\n",
    "                if inicial:\n",
    "                    cadena += '(' + str(elemento) + ',' + str(costo) + ')'\n",
    "                    inicial = False\n",
    "                else:\n",
    "                    cadena += ', (' + str(elemento) + ',' + str(costo) + ')'\n",
    "\n",
    "        return cadena + ']'\n",
    "    \n",
    "    def push(self, elemento, costo):\n",
    "        try:\n",
    "            self.diccionario[costo].append(elemento)\n",
    "        except:\n",
    "            self.diccionario[costo] = [elemento]\n",
    "            \n",
    "    def pop(self):\n",
    "        min_costo = np.min(np.array(list(self.diccionario.keys())))\n",
    "        candidatos = self.diccionario[min_costo]\n",
    "        elemento = candidatos.pop()\n",
    "        if len(candidatos) == 0:\n",
    "            del self.diccionario[min_costo]\n",
    "        return elemento\n",
    "    \n",
    "    def is_empty(self):\n",
    "        return len(self.diccionario) == 0\n",
    "        "
   ]
  },
  {
   "cell_type": "markdown",
   "metadata": {},
   "source": [
    "La idea detrás de este objeto es mantener un diccionario con los costos como keys, y los valores como listas de elementos que tienen el costo del respectivo key. De esta manera, al llamar el método `pop`, se busca la key mínima y se hace pop a la lista que es su respectivo valor de acuerdo al diccionario.\n",
    "\n",
    "Vamos a incluir algunos elementos en nuestra lista. Observe que incluimos las prioridades manualmente, sin recurrir a una función $f$:"
   ]
  },
  {
   "cell_type": "code",
   "execution_count": 8,
   "metadata": {},
   "outputs": [
    {
     "name": "stdout",
     "output_type": "stream",
     "text": [
      "La lista prioritaria: [(g,2), (s,2), (e,3), (k,1)]\n"
     ]
    }
   ],
   "source": [
    "lista = ListaPrioritaria()\n",
    "lista.push('g', 2)\n",
    "lista.push('e', 3)\n",
    "lista.push('k', 1)\n",
    "lista.push('s', 2)\n",
    "print(\"La lista prioritaria:\", lista)"
   ]
  },
  {
   "cell_type": "markdown",
   "metadata": {},
   "source": [
    "Observe que los elementos no se visualizan en orden. Tampoco se visualiza la forma real del diccionario, la cual se puede observar así:\n"
   ]
  },
  {
   "cell_type": "code",
   "execution_count": 10,
   "metadata": {},
   "outputs": [
    {
     "name": "stdout",
     "output_type": "stream",
     "text": [
      "El diccionario subyacente: {2: ['g', 's'], 3: ['e'], 1: ['k']}\n"
     ]
    }
   ],
   "source": [
    "print(\"El diccionario subyacente:\", lista.diccionario)"
   ]
  },
  {
   "cell_type": "markdown",
   "metadata": {},
   "source": [
    "A pesar de que los valores no están en orden, el método `pop` devuelve el elemento prioritario:"
   ]
  },
  {
   "cell_type": "code",
   "execution_count": 12,
   "metadata": {},
   "outputs": [
    {
     "data": {
      "text/plain": [
       "'k'"
      ]
     },
     "execution_count": 12,
     "metadata": {},
     "output_type": "execute_result"
    }
   ],
   "source": [
    "n = lista.pop()\n",
    "n"
   ]
  },
  {
   "cell_type": "markdown",
   "metadata": {},
   "source": [
    "Observe que tanto 'g' como 's' tienen la misma prioridad. No obstante, 's' fue el último en ser incluido en `lista` y, por lo tanto, es el primero en salir:\n"
   ]
  },
  {
   "cell_type": "code",
   "execution_count": 14,
   "metadata": {},
   "outputs": [
    {
     "name": "stdout",
     "output_type": "stream",
     "text": [
      "La lista prioritaria: [(g,2), (e,3)]\n",
      "Al hacer pop con dos elementos con el mismo valor se obtiene: g\n"
     ]
    }
   ],
   "source": [
    "print(\"La lista prioritaria:\", lista)\n",
    "print(\"Al hacer pop con dos elementos con el mismo valor se obtiene:\", lista.pop())"
   ]
  },
  {
   "cell_type": "markdown",
   "metadata": {},
   "source": [
    "Para determinar si la lista prioritaria está vacía, usamos el método `is_empty`."
   ]
  },
  {
   "cell_type": "code",
   "execution_count": 16,
   "metadata": {},
   "outputs": [
    {
     "name": "stdout",
     "output_type": "stream",
     "text": [
      "La lista prioritaria: []\n",
      "Lista vacía? True\n"
     ]
    }
   ],
   "source": [
    "print(\"La lista prioritaria:\", lista)\n",
    "print(\"Lista vacía?\", lista.is_empty())"
   ]
  },
  {
   "cell_type": "markdown",
   "metadata": {},
   "source": [
    "Antes de que podamos utilizar listas prioritarias en nuestras búsquedas dentro de espacios de estados, debemos entender un poco más la manera mediante la cual se ha implementado un costo a una acción en un estado dado dentro de nuestros ambientes de tarea. Esto es lo que vamos a ver a continuación."
   ]
  },
  {
   "cell_type": "markdown",
   "metadata": {},
   "source": [
    "## Costos <a class=\"anchor\" id=\"costos\"></a>\n",
    "\n",
    "**El método costo**\n",
    "\n",
    "En este apartado veremos la manera mediante la cual los ambientes de tarea involucran una función de costo, que le asigna un costo a una acción en un estado dado. Comencemos por ver esto en nuestro problema de las jarras de agua."
   ]
  },
  {
   "cell_type": "code",
   "execution_count": 17,
   "metadata": {},
   "outputs": [
    {
     "name": "stdout",
     "output_type": "stream",
     "text": [
      "Acciones aplicables: [1, 2]\n"
     ]
    },
    {
     "data": {
      "image/png": "[encoded data removed]",
      "text/plain": [
       "<Figure size 432x288 with 1 Axes>"
      ]
     },
     "metadata": {
      "needs_background": "light"
     },
     "output_type": "display_data"
    }
   ],
   "source": [
    "prob = JarrasAgua()\n",
    "s = prob.estado_inicial\n",
    "prob.pintar_estado(s)\n",
    "print(\"Acciones aplicables:\", prob.acciones_aplicables(s))"
   ]
  },
  {
   "cell_type": "code",
   "execution_count": 18,
   "metadata": {},
   "outputs": [
    {
     "name": "stdout",
     "output_type": "stream",
     "text": [
      "Costo de aplicar la accion 1 a s: 1\n",
      "Costo de aplicar la accion 2 a s: 1\n"
     ]
    }
   ],
   "source": [
    "print(\"Costo de aplicar la accion 1 a s:\", prob.costo(s, 1))\n",
    "print(\"Costo de aplicar la accion 2 a s:\", prob.costo(s, 2))"
   ]
  },
  {
   "cell_type": "markdown",
   "metadata": {},
   "source": [
    "Como podemos ver, el ambiente de tarea tiene un método `costo`, que permite asignar un costo a una acción en un estado dado. Al revisar el código en la librería ambientes, podemos observar que este método está definido de la siguiente manera:\n",
    "\n",
    "`def costo(self, estado, accion):\n",
    "\t\treturn 1`\n",
    "\n",
    "Esto es, se le asigna el mismo costo unitario a cualquier acción aplicable en cualquier estado.\n",
    "\n",
    "**El atributo costo_camino**\n",
    "\n",
    "Además de este método asociado a un ambiente de tarea, tenemos también el atributo `costo_camino` de los objetos `Nodo`. Repetimos aquí la definición de los nodos para poder observar un aspecto importante."
   ]
  },
  {
   "cell_type": "code",
   "execution_count": 19,
   "metadata": {},
   "outputs": [],
   "source": [
    "class Nodo:\n",
    "    \n",
    "    # Clase para crear los nodos\n",
    "    \n",
    "    def __init__(self, estado, madre, accion, costo_camino, codigo):\n",
    "        self.estado = estado\n",
    "        self.madre = madre\n",
    "        self.accion = accion\n",
    "        self.costo_camino = costo_camino\n",
    "        self.codigo = codigo\n",
    "        \n",
    "def nodo_hijo(problema, madre, accion):\n",
    "    \n",
    "    # Función para crear un nuevo nodo\n",
    "    # Input: problema, que es un objeto de clase ocho_reinas\n",
    "    #        madre, que es un nodo,\n",
    "    #        accion, que es una acción que da lugar al estado del nuevo nodo\n",
    "    # Output: nodo\n",
    "    \n",
    "    estado = problema.transicion(madre.estado, accion)\n",
    "    costo_camino = madre.costo_camino + problema.costo(madre.estado, accion)\n",
    "    codigo = problema.codigo(estado)\n",
    "    return Nodo(estado, madre, accion, costo_camino, codigo)\n",
    "\n",
    "def solucion(n):\n",
    "    if n.madre == None:\n",
    "        return []\n",
    "    else:\n",
    "        return solucion(n.madre) + [n.accion]"
   ]
  },
  {
   "cell_type": "markdown",
   "metadata": {},
   "source": [
    "Observe que en la función `nodo_hijo`, la cual crea el nodo hijo que se obtiene al expandir un nodo madre mediante una acción `s`, esta función calcula el `costo_camino` del nodo hijo sumándole el `costo_camino` del nodo madre más el costo que el ambiente de tarea le atribuye a la acción `s` en el estado del nodo madre.\n",
    "\n",
    "Veamos esto con un ejemplo:"
   ]
  },
  {
   "cell_type": "code",
   "execution_count": 21,
   "metadata": {},
   "outputs": [
    {
     "name": "stdout",
     "output_type": "stream",
     "text": [
      "Costo camino de la raíz a n = 0\n",
      "Costo camino de la raíz a n1 = 1\n",
      "Costo camino de la raíz a n2 = 2\n",
      "Costo camino de la raíz a n3 = 3\n"
     ]
    }
   ],
   "source": [
    "n = Nodo(s, None, None, 0, prob.codigo(s))\n",
    "n1 = nodo_hijo(prob, n, 1)\n",
    "n2 = nodo_hijo(prob, n1, 5)\n",
    "n3 = nodo_hijo(prob, n2, 3)\n",
    "print(\"Costo camino de la raíz a n =\", n.costo_camino)\n",
    "print(\"Costo camino de la raíz a n1 =\", n1.costo_camino)\n",
    "print(\"Costo camino de la raíz a n2 =\", n2.costo_camino)\n",
    "print(\"Costo camino de la raíz a n3 =\", n3.costo_camino)"
   ]
  },
  {
   "cell_type": "markdown",
   "metadata": {},
   "source": [
    "**Modificar el método costos**\n",
    "\n",
    "Para un problema dado, debe ser claro que podemos definir distintos métodos de costo. En nuestro problema, en lugar del costo unitario que hemos visto anteriormente, podríamos definir un costo basado en el uso eficiente del agua. Por ejemplo, podemos definir la siguiente función, la cual calcula cuánta agua se utilizó para llenar las jarras y se le suma el agua que se desperdició (otros cálculos distintos, basados en otros criterios, son posibles): "
   ]
  },
  {
   "cell_type": "code",
   "execution_count": 22,
   "metadata": {},
   "outputs": [],
   "source": [
    "def desperdicio(self, estado, accion):\n",
    "    x, y = estado\n",
    "    if accion == 1:\n",
    "        costo = 4 - x # usa 4-x litros de agua\n",
    "    if accion == 2:\n",
    "        costo = 3 - y # usa 3-y litros de agua\n",
    "    if accion == 3:\n",
    "        costo = x # desperdicia x litros de agua\n",
    "    if accion == 4:\n",
    "        costo = y # desperdicia y litros de agua\n",
    "    if accion == 5:\n",
    "        costo = 0\n",
    "    if accion == 6:\n",
    "        costo = 0\n",
    "    return costo\n"
   ]
  },
  {
   "cell_type": "markdown",
   "metadata": {},
   "source": [
    "Y luego añadirla para reemplazar el método `costo` del problema de las jarras de agua:"
   ]
  },
  {
   "cell_type": "code",
   "execution_count": 23,
   "metadata": {},
   "outputs": [],
   "source": [
    "setattr(JarrasAgua,\"costo\", desperdicio)"
   ]
  },
  {
   "cell_type": "markdown",
   "metadata": {},
   "source": [
    "Observe cómo se modifican los `costo_camino` de los mismos nodos que hemos revisado hace un momento:"
   ]
  },
  {
   "cell_type": "code",
   "execution_count": 24,
   "metadata": {},
   "outputs": [
    {
     "name": "stdout",
     "output_type": "stream",
     "text": [
      "Costo camino de la raíz a n = 0\n",
      "Costo camino de la raíz a n1 = 4\n",
      "Costo camino de la raíz a n2 = 4\n",
      "Costo camino de la raíz a n3 = 5\n"
     ]
    }
   ],
   "source": [
    "prob = JarrasAgua()\n",
    "s = prob.estado_inicial\n",
    "n = Nodo(s, None, None, 0, prob.codigo(s))\n",
    "n1 = nodo_hijo(prob, n, 1)\n",
    "n2 = nodo_hijo(prob, n1, 5)\n",
    "n3 = nodo_hijo(prob, n2, 3)\n",
    "print(\"Costo camino de la raíz a n =\", n.costo_camino)\n",
    "print(\"Costo camino de la raíz a n1 =\", n1.costo_camino)\n",
    "print(\"Costo camino de la raíz a n2 =\", n2.costo_camino)\n",
    "print(\"Costo camino de la raíz a n3 =\", n3.costo_camino)\n",
    "\n",
    "ns = [n,n1,n2,n3]"
   ]
  },
  {
   "cell_type": "markdown",
   "metadata": {},
   "source": [
    "**Ejercicio 5:**\n",
    "\n",
    "Cree una lista prioritaria `frontera` con los cuatro nodos anteriores y su respectivo `costo_camino` (obtenido mediante el atributo respectivo, no incluido a mano)."
   ]
  },
  {
   "cell_type": "code",
   "execution_count": 26,
   "metadata": {},
   "outputs": [
    {
     "name": "stdout",
     "output_type": "stream",
     "text": [
      "[(<__main__.Nodo object at 0x7f05f574dbe0>,0), (<__main__.Nodo object at 0x7f05f574df40>,4), (<__main__.Nodo object at 0x7f05f57c27f0>,4), (<__main__.Nodo object at 0x7f05f574dc70>,5)]\n"
     ]
    }
   ],
   "source": [
    "frontera = ListaPrioritaria()\n",
    "for N in ns:\n",
    "    frontera.push(N,N.costo_camino)\n",
    "print(frontera)"
   ]
  },
  {
   "cell_type": "markdown",
   "metadata": {},
   "source": [
    "---"
   ]
  },
  {
   "cell_type": "markdown",
   "metadata": {
    "colab_type": "text",
    "id": "UgFieF2s0dY2"
   },
   "source": [
    "## Best first search <a class=\"anchor\" id=\"best\"></a>\n",
    "\n",
    "Ya estamos listos para presentar el algoritmo general de búsqueda `best_first_search`. Todos los algoritmos subsiguientes serán un caso particular de este. Solamente modificaremos la función de evaluación $f$. En algunos casos será una función de costos, en otros casos será una función heurística y, en otros, será una combinación de las dos. Pero no nos adelantemos al tema.\n",
    "\n",
    "El algoritmo de búsqueda basado en una función de evaluación es similar a nuestro algoritmo (no recursivo) `depth_first_search`. En este último vamos generando una frontera, que es una lista LIFO, para ir expandiendo primero el nodo de mayor profundidad. En el algoritmo `best_first_search` expandimos primero el nodo prioritario de la frontera, que es una lista prioritaria.\n",
    "\n",
    "El siguiente es el pseudocódigo del algoritmo:\n",
    "\n",
    "<div style=\"background-color:rgba(0, 0, 0, 0.0470588); padding:10px 0;font-family:monospace;\">\n",
    "<font style=\"font-weight: bold;\" color = \"red\">function</font> best_first_search(<font style=\"font-style: italic;\">problema</font>, <font style=\"font-style: italic;\">f</font>) <font style=\"font-weight: bold;\" color = \"red\">returns</font> <font style=\"font-style: italic;\">nodo</font> o falla <br>\n",
    "&nbsp;&nbsp; <font style=\"font-style: italic;\">problema</font>.costo &#8592; <font style=\"font-style: italic;\">f</font> <br>\n",
    "&nbsp;&nbsp; <font style=\"font-style: italic;\">s</font> &#8592; <font style=\"font-style: italic;\">problema</font>.estado_inicial <br>\n",
    "&nbsp;&nbsp; <font style=\"font-style: italic;\">cod</font> &#8592; <font style=\"font-style: italic;\">problema</font>.codigo(<font style=\"font-style: italic;\">s</font>) <br>\n",
    "&nbsp;&nbsp; <font style=\"font-style: italic;\">nodo</font> &#8592; NODO(<font style=\"font-style: italic;\">s</font>) <br>\n",
    "&nbsp;&nbsp; <font style=\"font-style: italic;\">frontera</font> &#8592; lista prioritaria con 1 item con key <font style=\"font-style: italic;\">nodo</font> y valor 0<br>\n",
    "&nbsp;&nbsp; <font style=\"font-style: italic;\">explorados</font> &#8592; diccionario con 1 item con key <font style=\"font-style: italic;\">cod</font> y valor 0 <br>\n",
    "&nbsp;&nbsp; <font style=\"font-weight: bold;\" color = \"red\">While not</font> VACIA(<font style=\"font-style: italic;\">frontera</font>) <font style=\"font-weight: bold;\" color = \"red\">do</font> <br> \n",
    "&nbsp;&nbsp;&nbsp;&nbsp; <font style=\"font-style: italic;\">nodo</font> &#8592; POP(<font style=\"font-style: italic;\">frontera</font>) <br>\n",
    "&nbsp;&nbsp;&nbsp;&nbsp; <font style=\"font-weight: bold;\" color = \"red\">if</font> <font style=\"font-style: italic;\">problema</font>.test_objetivo(<font style=\"font-style: italic;\">nodo</font>.estado) <font style=\"font-weight: bold;\" color = \"red\">then return</font> <font style=\"font-style: italic;\">nodo</font> <br>\n",
    "&nbsp;&nbsp;&nbsp;&nbsp; <font style=\"font-weight: bold;\" color = \"red\">for each</font> <font style=\"font-style: italic;\">hijo</font> <font style=\"font-weight: bold;\" color = \"red\">in</font> EXPAND(<font style=\"font-style: italic;\">problema</font>, <font style=\"font-style: italic;\">nodo</font>) <font style=\"font-weight: bold;\" color = \"red\">do</font> <br>\n",
    "&nbsp;&nbsp;&nbsp;&nbsp;&nbsp;&nbsp; <font style=\"font-style: italic;\">s</font> &#8592; <font style=\"font-style: italic;\">hijo</font>.estado<br>\n",
    "&nbsp;&nbsp;&nbsp;&nbsp;&nbsp;&nbsp; <font style=\"font-style: italic;\">cod</font> &#8592; <font style=\"font-style: italic;\">problema</font>.codigo(<font style=\"font-style: italic;\">s</font>) <br>\n",
    "&nbsp;&nbsp;&nbsp;&nbsp;&nbsp;&nbsp; <font style=\"font-style: italic;\">c</font> &#8592; <font style=\"font-style: italic;\">hijo</font>.costo_camino <br>\n",
    "&nbsp;&nbsp;&nbsp;&nbsp;&nbsp;&nbsp; <font style=\"font-weight: bold;\" color = \"red\">if</font> <font style=\"font-style: italic;\">cod</font> <font style=\"font-weight: bold;\" color = \"red\">not in</font> <font style=\"font-style: italic;\">explorados</font>.keys <font style=\"font-weight: bold;\" color = \"red\">or</font> <font style=\"font-style: italic;\">c</font> &#60; <font style=\"font-style: italic;\">explorados</font>[<font style=\"font-style: italic;\">cod</font>] <font style=\"font-weight: bold;\" color = \"red\">then</font> <br>\n",
    "&nbsp;&nbsp;&nbsp;&nbsp;&nbsp;&nbsp;&nbsp;&nbsp; <font style=\"font-style: italic;\">frontera</font>[<font style=\"font-style: italic;\">hijo</font>] &#8592; <font style=\"font-style: italic;\">c</font> <br>\n",
    "&nbsp;&nbsp;&nbsp;&nbsp;&nbsp;&nbsp;&nbsp;&nbsp; <font style=\"font-style: italic;\">explorados</font>[<font style=\"font-style: italic;\">cod</font>] &#8592; <font style=\"font-style: italic;\">c</font> <br>\n",
    "    &nbsp;&nbsp; <font style=\"font-weight: bold;\" color = \"red\">return</font> falla <br>\n",
    "</div>\n",
    "\n",
    "El algoritmo comienza por asignar la función $f$ como el método `costo` del objeto problema. Este paso es importante, toda vez que los algorimos que vamos a considerar subsiguientemente utilizarán distintos tipos de función de evaluación.\n",
    "\n",
    "Posteriormente, el algoritmo toma el estado inicial, le calcula su código y, luego, crea el nodo raiz. A continuación, inicia la lista `frontera` como una lista prioritaria. También inicializa el diccionario `explorados` mediante el cual se van a relacionar los estados con el `costo_camino` asociado al camino en el árbol de búsqueda. Este diccionario permitirá tanto llevar la cuenta de cuáles estados hemos visitado, como de asociar el costo en que se incurre para llegar hasta un estado particular partiendo desde el estado inicial. Observe que el algoritmo permite incluir estados repetidos siempre y cuando se llegue a estos mediante caminos menos costos de los obtenidos anteriormente.\n"
   ]
  },
  {
   "cell_type": "markdown",
   "metadata": {},
   "source": [
    "**Ejercicio 6:**\n",
    "\n",
    "Implemente el anterior pseudocódigo para codificar la función `best_first_search`, con argumentos `problema` y una función de costo dada $f$."
   ]
  },
  {
   "cell_type": "markdown",
   "metadata": {},
   "source": [
    "Está en `busqueda.py`"
   ]
  },
  {
   "cell_type": "markdown",
   "metadata": {},
   "source": [
    "---"
   ]
  },
  {
   "cell_type": "markdown",
   "metadata": {},
   "source": [
    "**Ejercicio 7:**\n",
    "\n",
    "Utilice el algoritmo `best_first_search` para solucionar el problema de las jarras de agua. Observe que la solución encontrada es óptima en términos de cantidad de acciones a realizar.\n",
    "\n",
    "Utilice la siguiente función como el argumento $f$ del algoritmo de búsqueda."
   ]
  },
  {
   "cell_type": "code",
   "execution_count": 27,
   "metadata": {},
   "outputs": [],
   "source": [
    "def costo_acciones(self, estado, accion):\n",
    "    return 1"
   ]
  },
  {
   "cell_type": "code",
   "execution_count": 28,
   "metadata": {},
   "outputs": [
    {
     "data": {
      "text/plain": [
       "10"
      ]
     },
     "execution_count": 28,
     "metadata": {},
     "output_type": "execute_result"
    }
   ],
   "source": [
    "best_first_search(prob).costo_camino"
   ]
  },
  {
   "cell_type": "markdown",
   "metadata": {},
   "source": [
    "---"
   ]
  },
  {
   "cell_type": "markdown",
   "metadata": {},
   "source": [
    "Observe que el costo de la solución anterior, en términos de desperdicio, es 11. Esto dice que entre el agua introducida y el agua desechada suman 11 litros de agua:"
   ]
  },
  {
   "cell_type": "code",
   "execution_count": 29,
   "metadata": {},
   "outputs": [
    {
     "name": "stdout",
     "output_type": "stream",
     "text": [
      "Costo camino de la raíz a n6 = 11\n"
     ]
    }
   ],
   "source": [
    "prob = JarrasAgua()\n",
    "setattr(JarrasAgua,\"costo\", desperdicio)\n",
    "s = prob.estado_inicial\n",
    "n = Nodo(s, None, None, 0, prob.codigo(s))\n",
    "n1 = nodo_hijo(prob, n, 1)\n",
    "n2 = nodo_hijo(prob, n1, 5)\n",
    "n3 = nodo_hijo(prob, n2, 4)\n",
    "n4 = nodo_hijo(prob, n3, 5)\n",
    "n5 = nodo_hijo(prob, n4, 1)\n",
    "n6 = nodo_hijo(prob, n5, 5)\n",
    "print(\"Costo camino de la raíz a n6 =\", n5.costo_camino)"
   ]
  },
  {
   "cell_type": "markdown",
   "metadata": {},
   "source": [
    "**Ejercicio 8:**\n",
    "\n",
    "Encuentre una solución óptima en términos de desperdicio."
   ]
  },
  {
   "cell_type": "markdown",
   "metadata": {},
   "source": [
    "---"
   ]
  },
  {
   "cell_type": "markdown",
   "metadata": {},
   "source": [
    "## El problema del laberinto <a class=\"anchor\" id=\"laberinto\"></a>\n",
    "\n",
    "Imagine un agente dentro de un laberinto, el cual consiste de una rejilla de doce por doce casillas. El laberinto tiene solo una casilla que sirve de entrada y de salida, que es la casilla $(0,0)$. Esta es la única forma de salir o de entrar al laberinto. Cada rejilla es o bien un pasadizo o bien un muro. El agente puede moverse 1 casilla en dirección vertical u horizontal (nunca diagonal) siempre y cuando la casilla a la que se mueva no sea un muro o el fin de la rejilla. El agente tiene a su disposición un mapa del laberinto y la localización en la que se encuentra.\n",
    "\n",
    "<img src=\"./imagenes/laberinto1.png\" width=\"350px\"/>\n",
    "\n",
    "El problema consiste en, dada una posición dentro del laberinto, encontrar un camino que lo lleve hasta la salida."
   ]
  },
  {
   "cell_type": "markdown",
   "metadata": {},
   "source": [
    "**Ejercicio 9:**\n",
    "\n",
    "Complete la definición formal del problema del laberinto:    \n",
    "\n",
    "* **Estado inicial**: \n",
    "\n",
    "* **Posibles acciones**: \n",
    "\n",
    "* **Función de transiciones**: \n",
    "\n",
    "* **Prueba de satisfacción del objetivo**: \n",
    "\n",
    "* **Función de costo**: "
   ]
  },
  {
   "cell_type": "markdown",
   "metadata": {},
   "source": [
    "---"
   ]
  },
  {
   "cell_type": "code",
   "execution_count": 30,
   "metadata": {},
   "outputs": [],
   "source": [
    "from ambientes import Laberinto"
   ]
  },
  {
   "cell_type": "code",
   "execution_count": 32,
   "metadata": {},
   "outputs": [
    {
     "data": {
      "text/plain": [
       "<AxesSubplot:>"
      ]
     },
     "execution_count": 32,
     "metadata": {},
     "output_type": "execute_result"
    },
    {
     "data": {
      "image/png": "[encoded data removed]",
      "text/plain": [
       "<Figure size 576x576 with 1 Axes>"
      ]
     },
     "metadata": {
      "needs_background": "light"
     },
     "output_type": "display_data"
    }
   ],
   "source": [
    "inicia = (0,3)\n",
    "lab = Laberinto(inicia)\n",
    "s = lab.estado_inicial\n",
    "lab.pintar_estado(s)"
   ]
  },
  {
   "cell_type": "markdown",
   "metadata": {},
   "source": [
    "Observe que el método `pintar_camino` permite visualizar el movimiento del agente dentro del laberinto:"
   ]
  },
  {
   "cell_type": "code",
   "execution_count": 34,
   "metadata": {},
   "outputs": [
    {
     "data": {
      "image/png": "[encoded data removed]",
      "text/plain": [
       "<Figure size 576x576 with 1 Axes>"
      ]
     },
     "metadata": {
      "needs_background": "light"
     },
     "output_type": "display_data"
    }
   ],
   "source": [
    "camino = [(0,3), (0,2), (0,1), (0,0)]\n",
    "lab.pintar_camino(camino)"
   ]
  },
  {
   "cell_type": "markdown",
   "metadata": {},
   "source": [
    "**Ejercicio 10:**\n",
    "\n",
    "Resuelva el problema del laberinto iniciando en la casilla $(11,11)$ mediante los cuatro métodos `breadth_first_search`, `depth_first_search`, `iterative_deepening_search` y `best_first_search` con la función de costo uniforme. ¿Cuál es más rápido? ¿Cuál da una solución óptima?"
   ]
  },
  {
   "cell_type": "markdown",
   "metadata": {},
   "source": [
    "---"
   ]
  },
  {
   "cell_type": "markdown",
   "metadata": {},
   "source": [
    "## En este notebook usted aprendió\n",
    "\n",
    "* Cómo realizar una búsqueda mediante los métodos *depth_limited* e *iterative_deepening* e implementarlos en python.\n",
    "* Cómo implementar una lista prioritaria en Python.\n",
    "* La incorporación del costo de las acciones y el costo del camino asociado a un nodo en un árbol de búsqueda.\n"
   ]
  }
 ],
 "metadata": {
  "colab": {
   "name": "arboles_busqueda.ipynb",
   "provenance": []
  },
  "kernelspec": {
   "display_name": "Python 3 (ipykernel)",
   "language": "python",
   "name": "python3"
  },
  "language_info": {
   "codemirror_mode": {
    "name": "ipython",
    "version": 3
   },
   "file_extension": ".py",
   "mimetype": "text/x-python",
   "name": "python",
   "nbconvert_exporter": "python",
   "pygments_lexer": "ipython3",
   "version": "3.8.10"
  }
 },
 "nbformat": 4,
 "nbformat_minor": 4
}
