{
 "cells": [
  {
   "cell_type": "markdown",
   "metadata": {
    "id": "RtFlwTh221CU"
   },
   "source": [
    "# Criptoaritmética"
   ]
  },
  {
   "cell_type": "code",
   "execution_count": null,
   "metadata": {
    "id": "99Lwrrak21C2"
   },
   "outputs": [],
   "source": [
    "from copy import deepcopy\n",
    "from utiles import *"
   ]
  },
  {
   "cell_type": "markdown",
   "metadata": {
    "id": "L4nTjxMn21Cz"
   },
   "source": [
    "## Definición de formal como clase"
   ]
  },
  {
   "cell_type": "code",
   "execution_count": null,
   "metadata": {
    "id": "VEQ5fuQ021C4",
    "tags": []
   },
   "outputs": [],
   "source": [
    "class Criptoaritmetica:\n",
    "    \"\"\"\n",
    "    Problema de criptoaritmetica, el cual consiste en encontrar\n",
    "    el valor de todas las letras que aparecen en una operación de suma criptoaritmetica\n",
    "    \"\"\"\n",
    "    def __init__(self,sumando1:str,sumando2:str,resultado:str):\n",
    "        alfabeto = \"ABCDEFGHIJKLMNOPQRSTUVWXYZ\"\n",
    "\n",
    "        # inicializacion\n",
    "        self.solucion = dict()\n",
    "        self.sumandos = [sumando1.upper(), sumando2.upper()]\n",
    "        self.resultado = resultado.upper()\n",
    "        \n",
    "        for c in self.sumandos[0]:\n",
    "            assert c in alfabeto, \"ERROR: Algun caracter del primer sumando no esta en el alfabeto\"\n",
    "        for c in self.sumandos[1]:\n",
    "            assert c in alfabeto, \"ERROR: Algun caracter del segundo sumando no esta en el alfabeto\"\n",
    "        for c in self.resultado:\n",
    "            assert c in alfabeto, \"ERROR: Algun caracter del resultado no esta en el alfabeto\"\n",
    "        \n",
    "        print(f\"Operacion final: {self.sumandos[0]}+{self.sumandos[1]}={self.resultado}\")\n",
    "        \n",
    "        # Representacion del estado inicial por medio de un diccionario con valroes iniciales\n",
    "        # NOTA: cada estado es un diccionario con los siguientes atributos\n",
    "        self.estado_inicial = {\"solucion\":dict(),\n",
    "                               \"DigitosNoAsignados\":[i for i in range(0,10)],\n",
    "                               \"col\": 0,\n",
    "                               \"acarreo\":0\n",
    "                              }\n",
    "        \n",
    "        \n",
    "    \n",
    "    def acciones_aplicables(self, estado):\n",
    "        \"\"\"\n",
    "        Calcula las acciones aplicables a partir de un estado\n",
    "        ARGUMENTOS:\n",
    "\n",
    "        estado: diccionario que representa un estado del problema con evolucion de la solucion y digitos no asignados \n",
    "        \n",
    "        RETORNA:\n",
    "        Retorna una lista de parejas (letra, valor) de las asignaciones posibles\n",
    "        a partir de un estado\n",
    "        \"\"\"\n",
    "        # Se mira en la columna especificada (de derecha a izquierda):\n",
    "        letrasVisitadas = []\n",
    "        acc_aplicables = []\n",
    "        # Verificando en sumandos\n",
    "        # print(\"-----[Acciones posibles]-----\")\n",
    "        # print(\"Columna observada\", estado[\"col\"])\n",
    "        for i in range(len(self.sumandos)):\n",
    "            # print(\"SUMANDO %d\" %(i+1))\n",
    "            if existe(self.sumandos[i], estado[\"col\"]):\n",
    "                # print(\"Caracter en cuestion: \",self.sumandos[i][-1 - estado[\"col\"]])\n",
    "                # print(\"%s aparece en el sumando\" %self.sumandos[i][-1 - estado[\"col\"]])\n",
    "                c = self.sumandos[i][-1 - estado[\"col\"]]\n",
    "                # Si el caracter no ha sido asignado ni visto anteriormente\n",
    "                if c not in estado[\"solucion\"].keys() and c not in letrasVisitadas:\n",
    "                    # print(\"ACCIONES AGREGADAS\")\n",
    "                    acc_aplicables += [(c,n) for n in estado[\"DigitosNoAsignados\"]]\n",
    "                    letrasVisitadas.append(c)\n",
    "            #else:\n",
    "                # print(\"No se puede acceder a la columna en el sumando\" %self.sumandos[i][-1 - estado[\"col\"]])\n",
    "        \n",
    "        # print(\"\\n\")\n",
    "        # Verificando en resultado\n",
    "        # print(\"EN RESULTADO\")\n",
    "        if existe(self.resultado, estado[\"col\"]):\n",
    "            # print(\"%s aparece en el resultado\" %self.resultado[-1 - estado[\"col\"]])\n",
    "            c = self.resultado[-1 - estado[\"col\"]]\n",
    "            if c not in estado[\"solucion\"].keys():\n",
    "                if c not in letrasVisitadas:\n",
    "                    # print(\"Se agrega las acciones posibles con %s\" %c)\n",
    "                    acc_aplicables += [(c,n) for n in estado[\"DigitosNoAsignados\"]]\n",
    "                #else:\n",
    "                    # print(\"Letras Visitadas:\", letrasVisitadas)\n",
    "                    # print(\"%s ya fue visitada\")\n",
    "            #else:\n",
    "                # print(\"%s ya esta asignada, solucion = %s\" %(c, estado[\"solucion\"]))\n",
    "        # print(\"Acciones aplicables:\")\n",
    "        # print(acc_aplicables)\n",
    "        return acc_aplicables\n",
    "        \n",
    "        \n",
    "    def transicion(self, estado, asignacion):\n",
    "        \"\"\"\n",
    "        Devuelve un diccionario con la nueva asignacion de la forma letra:valor\n",
    "        \n",
    "        ARGUMENTOS:\n",
    "        estado: estado actual de asignaciones de valores a letras\n",
    "        asignacion: pareja (letra,valor) que se va a agregar en solucion de la forma (letra:valor)\n",
    "        \n",
    "        RETORNA:\n",
    "        un estado que es un diccionario con la pareja adicional y un digito eliminado de la lista de no visitados\n",
    "        \"\"\"\n",
    "        s = deepcopy(estado)\n",
    "        # Se agrega a la solucion la nueva pareja\n",
    "        s[\"solucion\"][asignacion[0]] = asignacion[1]\n",
    "        # Se elimina el digito de la lista de no usados en la asignacion de la letra\n",
    "        s[\"DigitosNoAsignados\"].remove(asignacion[1])\n",
    "        # se retorna un nuevo estado, con la solucion actualizada\n",
    "        MAX_LEN = max([len(self.sumandos[0]), len(self.sumandos[1]), len(self.resultado)])\n",
    "        # Para que se devuelva a la columna de la izquierda\n",
    "        s[\"col\"] = (s[\"col\"] + 1) % MAX_LEN # PREGUNTA: SE DEVUELVE UNA VEZ COL LLEGUE AL FINAL?\n",
    "        #print(\"Col nuevo estado: \",s[\"col\"])\n",
    "        col = estado[\"col\"]\n",
    "        # Calculo de acarreo para siguiente estado\n",
    "        if estado[\"col\"] < MAX_LEN:\n",
    "            suma = estado[\"acarreo\"]\n",
    "            for i in range(2):\n",
    "                if existe(self.sumandos[i], col):\n",
    "                    if self.sumandos[i][-1-col] in estado[\"solucion\"].keys():\n",
    "                        suma += estado[\"solucion\"][self.sumandos[i][-1 - col]]\n",
    "            s[\"acarreo\"] =  suma // 10\n",
    "\n",
    "        return s\n",
    "    \n",
    "    def test_objetivo(self, estado):\n",
    "        \"\"\"\n",
    "        Determina si el estado ingresado es solucion del problema\n",
    "        \n",
    "        ARGUMENTOS:\n",
    "        estado: estado actual de asignaciones de valores a letras\n",
    "        \n",
    "        RETORNA:\n",
    "        True si estado es un diccionario con una asignacion para todas las letras de la expresion\n",
    "        tal que la asignacion de numeros es unica y que la suma coincide, False de lo contrario\n",
    "        \"\"\"\n",
    "        # Validar:\n",
    "        # R1: la suma coincide con resultado (PREGUNTA: considerar acarreo o solo sumar despues de convertir?)\n",
    "        # R2: Cada letra de los sumandos y de resultado tiene un valor asignado, no hay dos letras con mismo valor\n",
    "        \n",
    "        # Verificacion de R2\n",
    "        letras = set(list(self.sumandos[0])).union(list(self.sumandos[1])).union(list(self.resultado))\n",
    "        digitsUsed = []\n",
    "        for L in letras:\n",
    "            if L not in estado[\"solucion\"].keys():\n",
    "                #print(\"NOTA: la letra '%s' no tiene un valor asignado\" %L)\n",
    "                return False\n",
    "            elif estado[\"solucion\"][L] in digitsUsed:\n",
    "                #print(\"NOTA: %d ya fue usado en la solucion\" %estado[\"solucion\"][L])\n",
    "                return False\n",
    "            else:\n",
    "                digitsUsed.append(estado[\"solucion\"][L])\n",
    "        cumpleR2 = True\n",
    "        \n",
    "        # Ahora que se confirmó que cada letra tiene un valor, verifiquemos R1\n",
    "        # Pasando Sumandos a enteros\n",
    "        sumandosInt = []\n",
    "        for i in range(2):\n",
    "            num = \"\"\n",
    "            for L in self.sumandos[i]:\n",
    "                num += str(estado[\"solucion\"][L])\n",
    "            sumandosInt.append(int(num))\n",
    "        # Pasando resultado a entero\n",
    "        num = \"\"\n",
    "        for L in self.resultado:\n",
    "            num += str(estado[\"solucion\"][L])\n",
    "        intResult = int(num)\n",
    "        #print(\"Resultado en numeros: \",intResult)\n",
    "        cumpleR1 = sum(sumandosInt) == intResult\n",
    "        \n",
    "        # Validacion final\n",
    "        return cumpleR1 and cumpleR2\n",
    "    \n",
    "    \n",
    "    def codigo(self, estado):\n",
    "        \"\"\"\n",
    "        Retorna un identificador unico del estado\n",
    "        ARGUMENTOS:\n",
    "            estado: diccionario que representa un estado del problema\n",
    "        \n",
    "        RETORNA:\n",
    "            string con el codigo del estado\n",
    "        \"\"\"\n",
    "        # el codigo se creara como un string de la forma: L1-V1 o L1-V1/L2-V2/.../Ln-Vn\n",
    "        cod = \"\"\n",
    "        inicio = True\n",
    "        for k in estado[\"solucion\"].keys():\n",
    "            if inicio:\n",
    "                cod += k+str(\"-\") + str(estado[\"solucion\"][k])\n",
    "                inicio = False\n",
    "            else:\n",
    "                cod += \"/\"+k+str(\"-\") + str(estado[\"solucion\"][k])\n",
    "        return cod\n",
    "    \n",
    "    def costo(self, estado, accion):\n",
    "        return 1\n"
   ]
  },
  {
   "cell_type": "code",
   "execution_count": 85,
   "metadata": {
    "id": "6EiFSOCF21C6"
   },
   "outputs": [
    {
     "name": "stdout",
     "output_type": "stream",
     "text": [
      "Operacion final: AB+CD=EF\n",
      "Operacion final: SEND+MORE=MONEY\n"
     ]
    }
   ],
   "source": [
    "prob = Criptoaritmetica('ab','cd','ef')\n",
    "prob = Criptoaritmetica('SEND','MORE','MONEY')"
   ]
  },
  {
   "cell_type": "code",
   "execution_count": null,
   "metadata": {
    "colab": {
     "background_save": true,
     "base_uri": "https://localhost:8080/"
    },
    "executionInfo": {
     "elapsed": 179,
     "status": "ok",
     "timestamp": 1632107023152,
     "user": {
      "displayName": "Juan Camilo Ruiz",
      "photoUrl": "https://lh3.googleusercontent.com/a/default-user=s64",
      "userId": "17712048420463810283"
     },
     "user_tz": 300
    },
    "id": "ybj49dQA21C7",
    "outputId": "aac02fa7-3607-4067-9ea0-1441f4c0149b"
   },
   "outputs": [
    {
     "name": "stdout",
     "output_type": "stream",
     "text": [
      "Estado inicial:  {'solucion': {}, 'DigitosNoAsignados': [0, 1, 2, 3, 4, 5, 6, 7, 8, 9], 'col': 0, 'acarreo': 0}\n"
     ]
    }
   ],
   "source": [
    "s = prob.estado_inicial\n",
    "print(\"Estado inicial: \",s)"
   ]
  },
  {
   "cell_type": "markdown",
   "metadata": {
    "id": "pl5o_Rir21C9"
   },
   "source": [
    "## Pruebas de algoritmos"
   ]
  },
  {
   "cell_type": "markdown",
   "metadata": {
    "id": "maBLrpxL21C-"
   },
   "source": [
    "**Refefinición de la clase nodo**: tiene el atributo costo_camino con el que se calcula el costo de moverse desde la raiz hasta un nodo hijo a partir de una accion"
   ]
  },
  {
   "cell_type": "markdown",
   "metadata": {
    "id": "jhWUb1ct21C-"
   },
   "source": [
    "### Depth First Search"
   ]
  },
  {
   "cell_type": "code",
   "execution_count": 94,
   "metadata": {
    "id": "gKRG0Dae21C_"
   },
   "outputs": [
    {
     "name": "stdout",
     "output_type": "stream",
     "text": [
      "CPU times: user 881 ms, sys: 1e+03 ns, total: 881 ms\n",
      "Wall time: 879 ms\n"
     ]
    }
   ],
   "source": [
    "%%time\n",
    "sol = depth_first_search(prob) # Nodo con la solucion"
   ]
  },
  {
   "cell_type": "code",
   "execution_count": null,
   "metadata": {
    "colab": {
     "base_uri": "https://localhost:8080/"
    },
    "executionInfo": {
     "elapsed": 202,
     "status": "ok",
     "timestamp": 1632107158758,
     "user": {
      "displayName": "Juan Camilo Ruiz",
      "photoUrl": "https://lh3.googleusercontent.com/a/default-user=s64",
      "userId": "17712048420463810283"
     },
     "user_tz": 300
    },
    "id": "Dy4szjSS21DA",
    "jupyter": {
     "source_hidden": true
    },
    "outputId": "c782536f-fc3b-44d7-c147-65f459b2343b",
    "tags": []
   },
   "outputs": [
    {
     "data": {
      "text/latex": [
       "\\begin{align*}\n",
       "\\begin{matrix}\n",
       "SEND&\\\\\n",
       "MORE&\\\\\n",
       "\\hline&\\\\\n",
       "MONEY&\\\\\n",
       "\\end{matrix}\n",
       "\\to\n",
       "\\begin{matrix}\n",
       "6851&\\\\\n",
       "0738&\\\\\n",
       "\\hline&\\\\\n",
       "07589&\\\\\n",
       "\\end{matrix}\\end{align*}"
      ],
      "text/plain": [
       "<IPython.core.display.Latex object>"
      ]
     },
     "metadata": {},
     "output_type": "display_data"
    }
   ],
   "source": [
    "s1,s2,r,S1,S2,R=recSolution(prob,dict(find_path(sol)))\n",
    "toTex(s1,s2,r,S1,S2,R)"
   ]
  },
  {
   "cell_type": "markdown",
   "metadata": {
    "id": "0dhlXrzY21DE"
   },
   "source": [
    "### Breadth First Search"
   ]
  },
  {
   "cell_type": "code",
   "execution_count": 7,
   "metadata": {
    "colab": {
     "base_uri": "https://localhost:8080/"
    },
    "executionInfo": {
     "elapsed": 197,
     "status": "ok",
     "timestamp": 1632107169390,
     "user": {
      "displayName": "Juan Camilo Ruiz",
      "photoUrl": "https://lh3.googleusercontent.com/a/default-user=s64",
      "userId": "17712048420463810283"
     },
     "user_tz": 300
    },
    "id": "GLsiGbrO21DE",
    "outputId": "4493030e-df8f-48c8-8f3c-f214712e2135",
    "tags": []
   },
   "outputs": [
    {
     "ename": "KeyboardInterrupt",
     "evalue": "",
     "output_type": "error",
     "traceback": [
      "\u001b[0;31m---------------------------------------------------------------------------\u001b[0m",
      "\u001b[0;31mKeyboardInterrupt\u001b[0m                         Traceback (most recent call last)",
      "\u001b[0;32m<timed exec>\u001b[0m in \u001b[0;36m<module>\u001b[0;34m\u001b[0m\n",
      "\u001b[0;32m~/yeiipi/Inteligencia-Artificial/miniproyecto1/utiles.py\u001b[0m in \u001b[0;36mbreadth_first_search\u001b[0;34m(problema)\u001b[0m\n\u001b[1;32m     65\u001b[0m                 \u001b[0;32mreturn\u001b[0m \u001b[0mhijo\u001b[0m\u001b[0;34m\u001b[0m\u001b[0;34m\u001b[0m\u001b[0m\n\u001b[1;32m     66\u001b[0m             \u001b[0;31m# de lo contrario se agregan a la frontera para pasar al siguiente nivel\u001b[0m\u001b[0;34m\u001b[0m\u001b[0;34m\u001b[0m\u001b[0;34m\u001b[0m\u001b[0m\n\u001b[0;32m---> 67\u001b[0;31m             \u001b[0;32mif\u001b[0m \u001b[0mhijo\u001b[0m\u001b[0;34m.\u001b[0m\u001b[0mcodigo\u001b[0m \u001b[0;32mnot\u001b[0m \u001b[0;32min\u001b[0m \u001b[0mexplorados\u001b[0m\u001b[0;34m:\u001b[0m\u001b[0;34m\u001b[0m\u001b[0;34m\u001b[0m\u001b[0m\n\u001b[0m\u001b[1;32m     68\u001b[0m                 \u001b[0mfrontera\u001b[0m\u001b[0;34m.\u001b[0m\u001b[0mappend\u001b[0m\u001b[0;34m(\u001b[0m\u001b[0mhijo\u001b[0m\u001b[0;34m)\u001b[0m\u001b[0;34m\u001b[0m\u001b[0;34m\u001b[0m\u001b[0m\n\u001b[1;32m     69\u001b[0m     \u001b[0;32mreturn\u001b[0m \u001b[0;32mNone\u001b[0m\u001b[0;34m\u001b[0m\u001b[0;34m\u001b[0m\u001b[0m\n",
      "\u001b[0;31mKeyboardInterrupt\u001b[0m: "
     ]
    }
   ],
   "source": [
    "%%time\n",
    "sol2 = breadth_first_search(prob) #este algoritmo tarda demasiado para correr el ejemplo SEND+MORE=MONEY"
   ]
  },
  {
   "cell_type": "code",
   "execution_count": 8,
   "metadata": {
    "colab": {
     "base_uri": "https://localhost:8080/"
    },
    "collapsed": true,
    "executionInfo": {
     "elapsed": 163,
     "status": "ok",
     "timestamp": 1632107185133,
     "user": {
      "displayName": "Juan Camilo Ruiz",
      "photoUrl": "https://lh3.googleusercontent.com/a/default-user=s64",
      "userId": "17712048420463810283"
     },
     "user_tz": 300
    },
    "id": "lTN0RhPS21DG",
    "jupyter": {
     "outputs_hidden": true
    },
    "outputId": "d8effc7c-5996-481c-e099-b4bf2d79c155",
    "tags": []
   },
   "outputs": [
    {
     "ename": "NameError",
     "evalue": "name 'sol2' is not defined",
     "output_type": "error",
     "traceback": [
      "\u001b[0;31m---------------------------------------------------------------------------\u001b[0m",
      "\u001b[0;31mNameError\u001b[0m                                 Traceback (most recent call last)",
      "\u001b[0;32m/tmp/ipykernel_31254/1942933371.py\u001b[0m in \u001b[0;36m<module>\u001b[0;34m\u001b[0m\n\u001b[0;32m----> 1\u001b[0;31m \u001b[0ms1\u001b[0m\u001b[0;34m,\u001b[0m\u001b[0ms2\u001b[0m\u001b[0;34m,\u001b[0m\u001b[0mr\u001b[0m\u001b[0;34m,\u001b[0m\u001b[0mS1\u001b[0m\u001b[0;34m,\u001b[0m\u001b[0mS2\u001b[0m\u001b[0;34m,\u001b[0m\u001b[0mR\u001b[0m\u001b[0;34m=\u001b[0m\u001b[0mrecSolution\u001b[0m\u001b[0;34m(\u001b[0m\u001b[0mprob\u001b[0m\u001b[0;34m,\u001b[0m\u001b[0mdict\u001b[0m\u001b[0;34m(\u001b[0m\u001b[0mfind_path\u001b[0m\u001b[0;34m(\u001b[0m\u001b[0msol2\u001b[0m\u001b[0;34m)\u001b[0m\u001b[0;34m)\u001b[0m\u001b[0;34m)\u001b[0m\u001b[0;34m\u001b[0m\u001b[0;34m\u001b[0m\u001b[0m\n\u001b[0m\u001b[1;32m      2\u001b[0m \u001b[0mtoTex\u001b[0m\u001b[0;34m(\u001b[0m\u001b[0ms1\u001b[0m\u001b[0;34m,\u001b[0m\u001b[0ms2\u001b[0m\u001b[0;34m,\u001b[0m\u001b[0mr\u001b[0m\u001b[0;34m,\u001b[0m\u001b[0mS1\u001b[0m\u001b[0;34m,\u001b[0m\u001b[0mS2\u001b[0m\u001b[0;34m,\u001b[0m\u001b[0mR\u001b[0m\u001b[0;34m)\u001b[0m\u001b[0;34m\u001b[0m\u001b[0;34m\u001b[0m\u001b[0m\n",
      "\u001b[0;31mNameError\u001b[0m: name 'sol2' is not defined"
     ]
    }
   ],
   "source": [
    "s1,s2,r,S1,S2,R=recSolution(prob,dict(find_path(sol2)))\n",
    "toTex(s1,s2,r,S1,S2,R)"
   ]
  },
  {
   "cell_type": "markdown",
   "metadata": {
    "id": "YXIvMn1o21DH"
   },
   "source": [
    "### Depth Limited Search"
   ]
  },
  {
   "cell_type": "code",
   "execution_count": 91,
   "metadata": {
    "id": "wuZcGePh21DI"
   },
   "outputs": [
    {
     "name": "stdout",
     "output_type": "stream",
     "text": [
      "CPU times: user 281 ms, sys: 0 ns, total: 281 ms\n",
      "Wall time: 280 ms\n"
     ]
    }
   ],
   "source": [
    "%%time\n",
    "sol3 = depth_limited_search(prob, 10)"
   ]
  },
  {
   "cell_type": "code",
   "execution_count": null,
   "metadata": {
    "id": "PlX0bhIy21DJ",
    "jupyter": {
     "source_hidden": true
    },
    "tags": []
   },
   "outputs": [
    {
     "name": "stdout",
     "output_type": "stream",
     "text": [
      "Costo de solucion:  8\n"
     ]
    },
    {
     "data": {
      "text/latex": [
       "\\begin{align*}\n",
       "\\begin{matrix}\n",
       "SEND&\\\\\n",
       "MORE&\\\\\n",
       "\\hline&\\\\\n",
       "MONEY&\\\\\n",
       "\\end{matrix}\n",
       "\\to\n",
       "\\begin{matrix}\n",
       "6851&\\\\\n",
       "0738&\\\\\n",
       "\\hline&\\\\\n",
       "07589&\\\\\n",
       "\\end{matrix}\\end{align*}"
      ],
      "text/plain": [
       "<IPython.core.display.Latex object>"
      ]
     },
     "metadata": {},
     "output_type": "display_data"
    }
   ],
   "source": [
    "if type(sol3) == str:\n",
    "    print(sol3)\n",
    "else:\n",
    "    print(\"Costo de solucion: \",sol3.costo_camino)\n",
    "    s1,s2,r,S1,S2,R=recSolution(prob,sol3.estado[\"solucion\"])\n",
    "    toTex(s1,s2,r,S1,S2,R)"
   ]
  },
  {
   "cell_type": "markdown",
   "metadata": {
    "id": "UUu-UnGf21DK"
   },
   "source": [
    "## Iterative Deepeneing Search"
   ]
  },
  {
   "cell_type": "code",
   "execution_count": null,
   "metadata": {
    "colab": {
     "base_uri": "https://localhost:8080/"
    },
    "collapsed": true,
    "executionInfo": {
     "elapsed": 1119058,
     "status": "ok",
     "timestamp": 1632091790938,
     "user": {
      "displayName": "Juan Camilo Ruiz",
      "photoUrl": "https://lh3.googleusercontent.com/a/default-user=s64",
      "userId": "17712048420463810283"
     },
     "user_tz": 300
    },
    "id": "9mzzQaqs21DL",
    "jupyter": {
     "outputs_hidden": true
    },
    "outputId": "4fd07a97-e677-446e-ee3f-c61fcd40a442",
    "tags": []
   },
   "outputs": [
    {
     "name": "stdout",
     "output_type": "stream",
     "text": [
      "Con profundidad 0 ...\n",
      "Terminado!\n",
      "-----------\n",
      "Con profundidad 1 ...\n",
      "Terminado!\n",
      "-----------\n",
      "Con profundidad 2 ...\n",
      "Terminado!\n",
      "-----------\n",
      "Con profundidad 3 ...\n",
      "Terminado!\n",
      "-----------\n",
      "Con profundidad 4 ...\n",
      "Terminado!\n",
      "-----------\n",
      "Con profundidad 5 ...\n",
      "Terminado!\n",
      "-----------\n",
      "Con profundidad 6 ...\n",
      "Terminado!\n",
      "-----------\n",
      "Con profundidad 7 ...\n",
      "Terminado!\n",
      "-----------\n",
      "Con profundidad 8 ...\n",
      "CPU times: user 10min 45s, sys: 13.4 ms, total: 10min 45s\n",
      "Wall time: 10min 45s\n"
     ]
    }
   ],
   "source": [
    "%%time\n",
    "max_depth = 10\n",
    "sol4 = iterative_deepening_search(prob, max_depth)"
   ]
  },
  {
   "cell_type": "code",
   "execution_count": 12,
   "metadata": {
    "collapsed": true,
    "jupyter": {
     "outputs_hidden": true,
     "source_hidden": true
    },
    "tags": []
   },
   "outputs": [
    {
     "name": "stdout",
     "output_type": "stream",
     "text": [
      "Con iterative deepening search, (max_depth =  10 )\n",
      "La solucion encontrada es:\n"
     ]
    },
    {
     "data": {
      "text/latex": [
       "\\begin{align*}\n",
       "\\begin{matrix}\n",
       "AB&\\\\\n",
       "CD&\\\\\n",
       "\\hline&\\\\\n",
       "EF&\\\\\n",
       "\\end{matrix}\n",
       "\\to\n",
       "\\begin{matrix}\n",
       "32&\\\\\n",
       "57&\\\\\n",
       "\\hline&\\\\\n",
       "89&\\\\\n",
       "\\end{matrix}\\end{align*}"
      ],
      "text/plain": [
       "<IPython.core.display.Latex object>"
      ]
     },
     "metadata": {},
     "output_type": "display_data"
    }
   ],
   "source": [
    "print(\"Con iterative deepening search, (max_depth = \",max_depth,\")\")\n",
    "if sol4 is not None:\n",
    "    if sol4 == \"cutoff\":\n",
    "        print(\"Cutoff alcanzado\")\n",
    "    else:\n",
    "        print(\"La solucion encontrada es:\")\n",
    "        s1,s2,r,S1,S2,R=recSolution(prob,sol4.estado[\"solucion\"])\n",
    "        toTex(s1,s2,r,S1,S2,R)\n",
    "else:\n",
    "    print(\"No se encontro una solucion\")"
   ]
  },
  {
   "cell_type": "markdown",
   "metadata": {
    "id": "-51eVlnhR-a9"
   },
   "source": [
    "### Lista Prioritaria y refefinicion de costo\n",
    "Se trajo la clase **ListaPrioritaria** la cual nos permite buscar el elemento más prioritario (el de menor costo) de la lista de acciones posibles. Ahora definamos una función de costo conveniente para el problema:"
   ]
  },
  {
   "cell_type": "code",
   "execution_count": 15,
   "metadata": {
    "id": "7znKxjrsR93H",
    "tags": []
   },
   "outputs": [],
   "source": [
    "def getFrequencyCost(sumandos, resultado, sol):\n",
    "    # Calcula un costo dependiendo de la frecuencia de cada una de las letras que faltan por reemplazar\n",
    "    # Entre más frecuente menor es el costo (es decir más prioritario segun ListaPrioritaria)\n",
    "    # ARGUMENTOS:\n",
    "    #   sumandos: lista con los dos strings que son los sumandos\n",
    "    #   resultado: string del resultado de sumar los dos sumandos\n",
    "    # sol: diccionario con asignaciones de valores a letras\n",
    "    # RETORNA:\n",
    "    #   diccionario con costos por seleccionar una letra a partir de su frecuencia\n",
    "    totalLetters = len(sumandos[0]) + len(sumandos[1]) + len(resultado)\n",
    "    freqCost = dict()\n",
    "    for i in range(2):\n",
    "        for c in sumandos[i]:\n",
    "            if c not in sol.keys():\n",
    "                if c not in freqCost.keys():\n",
    "                    freqCost[c] = totalLetters\n",
    "                else:\n",
    "                    freqCost[c] -= 1\n",
    "    for c in resultado:\n",
    "        if c not in freqCost.keys() and c not in sol.keys():\n",
    "            freqCost[c] = totalLetters\n",
    "        elif c in freqCost.keys() and c not in sol.keys():\n",
    "            freqCost[c] -= 1\n",
    "\n",
    "    return freqCost\n",
    "\n",
    "    \n",
    "\n",
    "def costoAsignacion(self, estado, accion):\n",
    "    \"\"\"\n",
    "    Define el costo de asignar un valor a una letra.\n",
    "    Como la clase ListaPrioritaria devuelve el objeto más prioritario con el menor costo entonces\n",
    "    la mejor opcion debe tener el mejor costo\n",
    "\n",
    "    ARGUMENTOS:\n",
    "        self: objeto que representa al problema\n",
    "        estado: estado desde el cual se observa la accion posible\n",
    "        accion: pareja (letra, valor) que representa la accion realizada desde estado\n",
    "\n",
    "    RETORNA:\n",
    "        float igual al costo de hacer la respectiva accion.\n",
    "    \"\"\"\n",
    "    # Primero se va a buscar la frecuencia de cada letra. Vamos a asumir que entre\n",
    "    # más letras se reemplacen menor operaciones se tendrá que hacer.\n",
    "    n1 = len(self.sumandos[0])\n",
    "    n2 = len(self.sumandos[1])\n",
    "    cF = getFrequencyCost(self.sumandos, self.resultado, estado[\"solucion\"])\n",
    "\n",
    "    # Segundo, filtramos todas las acciones cuyo costo es el minimo\n",
    "    costo = cF[accion[0]]\n",
    "    #print(\"Solucion inicial: \",estado[\"solucion\"])\n",
    "    sol2 = deepcopy(estado[\"solucion\"]) # posible solucion\n",
    "    sol2[accion[0]] = accion[1]\n",
    "    #print(\"Sol2: \",sol2)\n",
    "    # Buscamos desde la derecha hacia la izquierda\n",
    "    for j in range(2):\n",
    "        for i in range(len(self.sumandos[j])):\n",
    "            # Despeje para el primer sumando\n",
    "            if j == 0:\n",
    "                c = self.sumandos[0][-1-i]\n",
    "                # Si se encontro la letra de la accion\n",
    "                if c == accion[0]:\n",
    "                    # Se verifica si en la columna se puede despejar\n",
    "                    if existe(self.sumandos[1], i) and existe(self.resultado,i):\n",
    "                        costo = costo/2.0\n",
    "                        # Se verifica la suma y el resultado son iguales con la asignacion\n",
    "                        if match(self, sol2, -1-i):\n",
    "                            costo = costo/2.0 # maxima prioridad\n",
    "                    # Despues de reducir el costo (si se da) de cualquier forma retornamos su valor\n",
    "                    return costo\n",
    "            if j == 1:\n",
    "                c = self.sumandos[1][-1-i]\n",
    "                # Si se encontro la letra de la accion\n",
    "                if c == accion[0]:\n",
    "                    # Se verifica si en la columna se puede despejar\n",
    "                    if existe(self.sumandos[0], i) and existe(self.resultado,i):\n",
    "                        costo = costo/2.0\n",
    "                        # Se verifica la suma y el resultado son iguales con la asignacion\n",
    "                        if match(self, sol2, -1-i):\n",
    "                            costo = costo/2.0 # maxima prioridad\n",
    "                    # Despues de reducir el costo (si se da) de cualquier forma retornamos su valor\n",
    "                    return costo\n",
    "    # Ultima verificacion por si la letra no estaba en sumandos pero sí en resultado\n",
    "    for i in range(len(self.resultado)):\n",
    "        c = self.resultado[-1-i]\n",
    "        if c == accion[0]:\n",
    "            if existe(self.sumandos[0], i) and existe(self.sumandos[1], i):\n",
    "                costo = costo/2.0\n",
    "            if match(self, sol2, -1-i):\n",
    "                costo = costo/2.0\n",
    "            return costo\n",
    "\n",
    "def existe(s,idx):\n",
    "    # s: string del que se quiere validar si existe el caracter\n",
    "    # idx: indice de iterador\n",
    "    return idx < len(s)\n",
    "\n",
    "def match(self,solucion, col):\n",
    "    # verifica si la suma calculada con los sumandos coincide con el valor del resultado en ultima fila (sin acarreo)\n",
    "    # solucion: diccionario con parejas (letra, valor) que ya fueron asignados\n",
    "    # col: entero igual al indice de la columna en la que se calcula la suma y se compara con resultado de esa columna\n",
    "    if self.sumandos[0][col] in solucion.keys() and self.sumandos[1][col] in solucion.keys() and self.resultado[col] in solucion.keys():\n",
    "        suma = (solucion[self.sumandos[0][col]] + solucion[self.sumandos[1][col]]) %10\n",
    "        if suma == solucion[self.resultado[col]]:\n",
    "            return True\n",
    "        else:\n",
    "            return False\n",
    "    return False\n"
   ]
  },
  {
   "cell_type": "code",
   "execution_count": 16,
   "metadata": {
    "id": "WWTuum5QKTNH"
   },
   "outputs": [],
   "source": [
    "setattr(Criptoaritmetica,\"costo\", costoAsignacion)"
   ]
  },
  {
   "cell_type": "markdown",
   "metadata": {
    "id": "2CHXfXNu21DM"
   },
   "source": [
    "## Best first search"
   ]
  },
  {
   "cell_type": "code",
   "execution_count": 17,
   "metadata": {
    "id": "-lr1dpF1mJ97",
    "tags": []
   },
   "outputs": [],
   "source": [
    "def best_first_search(problema,f):\n",
    "    # implementacion de depth first search con funcion de costo\n",
    "\n",
    "    # ARGUMENTOS:\n",
    "    # problema: problema el cual se trabaja\n",
    "    # f: funcion de costo\n",
    "    \n",
    "    #Inicializacion\n",
    "    if f is not None:\n",
    "        setattr(problema, \"costo\", f)\n",
    "        \n",
    "    s = problema.estado_inicial\n",
    "    cod = problema.codigo(s)\n",
    "    \n",
    "    nodo = Nodo(s, None, None,0, cod) # nodo raiz\n",
    "    frontera = ListaPrioritaria() # lista prioritaria\n",
    "    frontera.push(nodo, 0)\n",
    "    explorados = {}\n",
    "    explorados[cod] = 0\n",
    "    \n",
    "    # Iteraciones de busqueda\n",
    "    while not frontera.is_empty():\n",
    "        nodo = frontera.pop()\n",
    "        \n",
    "        if problema.test_objetivo(nodo.estado):\n",
    "            return nodo\n",
    "        \n",
    "        for hijo in expand(problema, nodo):\n",
    "            # Se busca cada uno de los hijos del nodo actual con estado, codigo y costo hasta hijo\n",
    "            s = hijo.estado # estado de hijo\n",
    "            cod = problema.codigo(s) #codigo del estado del hijo\n",
    "            c = hijo.costo_camino # costo del camino hasta hijo\n",
    "            \n",
    "            # Si el hijo no ha sido explorado o el costo hasta hijo es menor (camino optimo)\n",
    "            if cod not in explorados.keys() or c < explorados[cod]:\n",
    "                frontera.push(hijo, c)\n",
    "                explorados[cod] = c\n",
    "    return None\n"
   ]
  },
  {
   "cell_type": "code",
   "execution_count": 18,
   "metadata": {
    "id": "Aej9xun521DN"
   },
   "outputs": [
    {
     "name": "stdout",
     "output_type": "stream",
     "text": [
      "CPU times: user 1min, sys: 872 ms, total: 1min 1s\n",
      "Wall time: 1min 1s\n"
     ]
    }
   ],
   "source": [
    "%%time\n",
    "sol5 = best_first_search(prob, costoAsignacion)"
   ]
  },
  {
   "cell_type": "code",
   "execution_count": 19,
   "metadata": {
    "colab": {
     "base_uri": "https://localhost:8080/",
     "height": 163
    },
    "executionInfo": {
     "elapsed": 77,
     "status": "error",
     "timestamp": 1632094390336,
     "user": {
      "displayName": "Juan Camilo Ruiz",
      "photoUrl": "https://lh3.googleusercontent.com/a/default-user=s64",
      "userId": "17712048420463810283"
     },
     "user_tz": 300
    },
    "id": "XXHkE-wgR7g2",
    "outputId": "e077845f-ffe4-417e-f0ba-5bd56a10b12e"
   },
   "outputs": [
    {
     "name": "stdout",
     "output_type": "stream",
     "text": [
      "La solucion encontrada es:\n"
     ]
    },
    {
     "data": {
      "text/latex": [
       "\\begin{align*}\n",
       "\\begin{matrix}\n",
       "AB&\\\\\n",
       "CD&\\\\\n",
       "\\hline&\\\\\n",
       "EF&\\\\\n",
       "\\end{matrix}\n",
       "\\to\n",
       "\\begin{matrix}\n",
       "41&\\\\\n",
       "52&\\\\\n",
       "\\hline&\\\\\n",
       "93&\\\\\n",
       "\\end{matrix}\\end{align*}"
      ],
      "text/plain": [
       "<IPython.core.display.Latex object>"
      ]
     },
     "metadata": {},
     "output_type": "display_data"
    }
   ],
   "source": [
    "if sol5 is not None:\n",
    "    if sol5 == \"cutoff\":\n",
    "        print(\"Cutoff alcanzado\")\n",
    "    else:\n",
    "        print(\"La solucion encontrada es:\")\n",
    "        s1,s2,r,S1,S2,R=recSolution(prob,sol5.estado[\"solucion\"])\n",
    "        toTex(s1,s2,r,S1,S2,R)\n",
    "else:\n",
    "    print(\"No se encontro una solucion\")"
   ]
  }
 ],
 "metadata": {
  "accelerator": "TPU",
  "colab": {
   "collapsed_sections": [],
   "name": "Copia de Criptoaritmética_Avances.ipynb",
   "provenance": []
  },
  "kernelspec": {
   "display_name": "Python 3 (ipykernel)",
   "language": "python",
   "name": "python3"
  },
  "language_info": {
   "codemirror_mode": {
    "name": "ipython",
    "version": 3
   },
   "file_extension": ".py",
   "mimetype": "text/x-python",
   "name": "python",
   "nbconvert_exporter": "python",
   "pygments_lexer": "ipython3",
   "version": "3.8.10"
  }
 },
 "nbformat": 4,
 "nbformat_minor": 4
}
