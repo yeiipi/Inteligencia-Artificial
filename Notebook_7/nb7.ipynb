{
 "cells": [
  {
   "cell_type": "markdown",
   "metadata": {},
   "source": [
    "<table>\n",
    "    <tr>\n",
    "        <td><img src=\"./imagenes/Macc.png\" width=\"400\"/></td>\n",
    "        <td>&nbsp;</td>\n",
    "        <td>\n",
    "            <h1 style=\"color:blue;text-align:left\">Inteligencia Artificial</h1></td>\n",
    "        <td>\n",
    "            <table><tr>\n",
    "            <tp><p style=\"font-size:150%;text-align:center\">Notebook 7</p></tp>\n",
    "            <tp><p style=\"font-size:150%;text-align:center\">Lógica Proposicional </p></tp>\n",
    "            </tr></table>\n",
    "        </td>\n",
    "    </tr>\n",
    "</table>\n",
    "\n",
    "---\n"
   ]
  },
  {
   "cell_type": "markdown",
   "metadata": {},
   "source": [
    "## Objetivo\n",
    "\n",
    "En este notebook veremos una manera de implementar la descripción de escenarios en python. También veremos cómo implementar una base de conocimiento sobre la cual se ejecutan los algoritmos de deducción forward-chaining y backward-chaining. Finalizaremos presentando la búsqueda en una base de conocimiento usando la suposición del mundo cerrado.\n",
    "\n",
    "## Secciones\n",
    "\n",
    "Desarrollaremos la explicación en las siguientes secciones:\n",
    "\n",
    "* [Implementación de descriptores.](#descriptores)\n",
    "* [Implementación de una base de conocimiento.](#base)\n",
    "* [Forward chaining.](#forward)\n",
    "* [Backward chaining.](#backward)\n"
   ]
  },
  {
   "cell_type": "markdown",
   "metadata": {},
   "source": [
    "## Implementación de descriptores <a class=\"anchor\" id=\"descriptores\"></a>\n",
    "\n",
    "En este taller trabajaremos sobre el siguiente problema. Buscamos llenar todas las casillas en una tabla 2x2 con un número de 0 a 3, sin repetir. Por ejemplo:\n",
    "\n",
    "![ejemplo](imagenes/tabla.png)\n",
    "\n",
    "En este ejemplo, usaremos descriptores para cruzar la información de que un número se encuentra en un lugar (es decir, una casilla de la tabla). Para hacer la implementación en python, sugerimos usar la clase `Descriptor`, que se encuentra en la librería `logica`.  Básicamente, lo que hace la codificación es representar un átomo como un solo caracter (es decir, una cadena de longitud 1).\n",
    "\n",
    "Importamos la clase a partir de la librería:"
   ]
  },
  {
   "cell_type": "code",
   "execution_count": 88,
   "metadata": {},
   "outputs": [],
   "source": [
    "from logica import Descriptor"
   ]
  },
  {
   "cell_type": "markdown",
   "metadata": {},
   "source": [
    "Ahora creamos un descriptor de dos argumentos, uno para los números y otro para los lugares:"
   ]
  },
  {
   "cell_type": "code",
   "execution_count": 91,
   "metadata": {},
   "outputs": [],
   "source": [
    "numeros = [0, 1, 2, 3]\n",
    "lugares = ['arriba izquierda', 'arriba derecha', 'abajo izquierda', 'abajo derecha']\n",
    "Nnumeros = len(numeros)\n",
    "Nlugares = len(lugares)\n",
    "OenL = Descriptor([Nnumeros, Nlugares])"
   ]
  },
  {
   "cell_type": "markdown",
   "metadata": {},
   "source": [
    "Métodos importantes del `Descriptor`:\n",
    "\n",
    "* P(`lista_valores`): Codifica el cruce de información correspondiente a los valores en `lista_valores` mediante un caracter.\n",
    "* inv(`caracter`): Decodifica `caracter` en una lista de valores. Esta lista depende del número de argumentos con que se haya inicializado el objeto descriptor. \n",
    "\n",
    "Mediante el método P() podemos crear las codificaciones. A continuación presentaremos cada uno de los caracteres que codifican los cruces de información de que un número (0, 1, 2, 3) se encuentra en un lugar (arriba izquierda, arriba derecha, abajo izquierda y abajo derecha):"
   ]
  },
  {
   "cell_type": "code",
   "execution_count": 92,
   "metadata": {},
   "outputs": [
    {
     "name": "stdout",
     "output_type": "stream",
     "text": [
      "Cantidad de átomos OenL: 16\n",
      "Caracteres correspondientes a los átomos OenL:\n",
      "\n",
      "Que el número 0 está en el lugar arriba izquierda es el átomo Ā\n",
      "Que el número 0 está en el lugar arriba derecha es el átomo Ą\n",
      "Que el número 0 está en el lugar abajo izquierda es el átomo Ĉ\n",
      "Que el número 0 está en el lugar abajo derecha es el átomo Č\n",
      "\n",
      "Que el número 1 está en el lugar arriba izquierda es el átomo ā\n",
      "Que el número 1 está en el lugar arriba derecha es el átomo ą\n",
      "Que el número 1 está en el lugar abajo izquierda es el átomo ĉ\n",
      "Que el número 1 está en el lugar abajo derecha es el átomo č\n",
      "\n",
      "Que el número 2 está en el lugar arriba izquierda es el átomo Ă\n",
      "Que el número 2 está en el lugar arriba derecha es el átomo Ć\n",
      "Que el número 2 está en el lugar abajo izquierda es el átomo Ċ\n",
      "Que el número 2 está en el lugar abajo derecha es el átomo Ď\n",
      "\n",
      "Que el número 3 está en el lugar arriba izquierda es el átomo ă\n",
      "Que el número 3 está en el lugar arriba derecha es el átomo ć\n",
      "Que el número 3 está en el lugar abajo izquierda es el átomo ċ\n",
      "Que el número 3 está en el lugar abajo derecha es el átomo ď\n",
      "\n"
     ]
    }
   ],
   "source": [
    "print(\"Cantidad de átomos OenL:\", OenL.rango[1] - OenL.rango[0])\n",
    "print(\"Caracteres correspondientes a los átomos OenL:\\n\")\n",
    "for n in range(Nnumeros):\n",
    "    for x in range(Nlugares):\n",
    "        atomo = OenL.P([n,x])\n",
    "        print(f\"Que el número {numeros[n]} está en el lugar {lugares[x]} es el átomo {atomo}\")\n",
    "    print(\"\")"
   ]
  },
  {
   "cell_type": "markdown",
   "metadata": {},
   "source": [
    "Observe que también es posible usar más de dos argumentos para la codificación. Por ejemplo, un nuevo descriptor puede cruzar tres tipos de información: número, fila y columna:"
   ]
  },
  {
   "cell_type": "code",
   "execution_count": 93,
   "metadata": {},
   "outputs": [],
   "source": [
    "numeros = [0, 1, 2, 3]\n",
    "filas = ['arriba', 'abajo']\n",
    "columnas = ['izquierda', 'derecha']\n",
    "Nnumeros = len(numeros)\n",
    "Nfilas = len(filas)\n",
    "Ncolumnas = len(columnas)\n",
    "OenCasilla = Descriptor([Nnumeros, Nfilas, Ncolumnas])"
   ]
  },
  {
   "cell_type": "code",
   "execution_count": 94,
   "metadata": {},
   "outputs": [
    {
     "name": "stdout",
     "output_type": "stream",
     "text": [
      "Cantidad de átomos OenCasilla: 16\n",
      "Caracteres correspondientes a los átomos OenCasilla:\n",
      "\n",
      "Que el número 0 está arriba a la izquierda es el átomo Ā\n",
      "Que el número 0 está arriba a la derecha es el átomo Ĉ\n",
      "Que el número 0 está abajo a la izquierda es el átomo Ą\n",
      "Que el número 0 está abajo a la derecha es el átomo Č\n",
      "\n",
      "Que el número 1 está arriba a la izquierda es el átomo ā\n",
      "Que el número 1 está arriba a la derecha es el átomo ĉ\n",
      "Que el número 1 está abajo a la izquierda es el átomo ą\n",
      "Que el número 1 está abajo a la derecha es el átomo č\n",
      "\n",
      "Que el número 2 está arriba a la izquierda es el átomo Ă\n",
      "Que el número 2 está arriba a la derecha es el átomo Ċ\n",
      "Que el número 2 está abajo a la izquierda es el átomo Ć\n",
      "Que el número 2 está abajo a la derecha es el átomo Ď\n",
      "\n",
      "Que el número 3 está arriba a la izquierda es el átomo ă\n",
      "Que el número 3 está arriba a la derecha es el átomo ċ\n",
      "Que el número 3 está abajo a la izquierda es el átomo ć\n",
      "Que el número 3 está abajo a la derecha es el átomo ď\n",
      "\n"
     ]
    }
   ],
   "source": [
    "print(\"Cantidad de átomos OenCasilla:\", OenL.rango[1] - OenL.rango[0])\n",
    "print(\"Caracteres correspondientes a los átomos OenCasilla:\\n\")\n",
    "for n in range(Nnumeros):\n",
    "    for f in range(Nfilas):\n",
    "        for c in range(Ncolumnas):\n",
    "            atomo = OenCasilla.P([n,f,c])\n",
    "            print(f\"Que el número {numeros[n]} está {filas[f]} a la {columnas[c]} es el átomo {atomo}\")\n",
    "    print(\"\")"
   ]
  },
  {
   "cell_type": "markdown",
   "metadata": {},
   "source": [
    "**Ejercicio 1:**\n",
    "\n",
    "Utilice el método `inv` del objeto `OenL` para decodificar el siguiente átomo: "
   ]
  },
  {
   "cell_type": "code",
   "execution_count": 95,
   "metadata": {},
   "outputs": [
    {
     "data": {
      "text/plain": [
       "[2, 3]"
      ]
     },
     "execution_count": 95,
     "metadata": {},
     "output_type": "execute_result"
    }
   ],
   "source": [
    "atomo = chr(270)\n",
    "OenL.inv(atomo)"
   ]
  },
  {
   "cell_type": "markdown",
   "metadata": {},
   "source": [
    "La respuesta debe ser:\n",
    "\n",
    "```\n",
    "El átomo Ď representa que el número 2 está abajo derecha\n",
    "```"
   ]
  },
  {
   "cell_type": "markdown",
   "metadata": {},
   "source": [
    "---"
   ]
  },
  {
   "cell_type": "markdown",
   "metadata": {},
   "source": [
    "Cuando ya sabemos qué información representan los átomos que creamos con nuestro descriptor, podemos incluir un método para visualizar más fácilmente la información. Mediante nuestro objeto `OenL` estamos representando el cruce de información de que un número se encuentra en un lugar. Entonces, al decodificar un átomo, queremos que nos presente claramente esta información. Para ello podemos usar el siguiente método `escribir`, el cual, a su vez, usa el método `inv`: "
   ]
  },
  {
   "cell_type": "code",
   "execution_count": 96,
   "metadata": {},
   "outputs": [],
   "source": [
    "def escribir(self, literal):\n",
    "    if '-' in literal:\n",
    "        atomo = literal[1:]\n",
    "        neg = ' no'\n",
    "    else:\n",
    "        atomo = literal\n",
    "        neg = ''\n",
    "    n, x = self.inv(atomo)\n",
    "    return f\"El número {numeros[n]}{neg} está {lugares[x]}\"\n",
    "    \n",
    "from types import MethodType\n",
    "\n",
    "OenL.escribir = MethodType(escribir, OenL)"
   ]
  },
  {
   "cell_type": "code",
   "execution_count": 97,
   "metadata": {},
   "outputs": [
    {
     "data": {
      "text/plain": [
       "'El número 2 está abajo derecha'"
      ]
     },
     "execution_count": 97,
     "metadata": {},
     "output_type": "execute_result"
    }
   ],
   "source": [
    "OenL.escribir(atomo)"
   ]
  },
  {
   "cell_type": "markdown",
   "metadata": {},
   "source": [
    "Este método también toma en cuenta si el literal es positivo o negativo:"
   ]
  },
  {
   "cell_type": "code",
   "execution_count": 12,
   "metadata": {},
   "outputs": [
    {
     "data": {
      "text/plain": [
       "'El número 2 no está abajo derecha'"
      ]
     },
     "execution_count": 12,
     "metadata": {},
     "output_type": "execute_result"
    }
   ],
   "source": [
    "OenL.escribir('-' + atomo)"
   ]
  },
  {
   "cell_type": "markdown",
   "metadata": {},
   "source": [
    "## Base de conocimiento <a class=\"anchor\" id=\"base\"></a>\n",
    "\n",
    "Una base de conocimiento es una estructura sobre la cual se pueden hacer consultas de objetivos. Más adelante usaremos las estrategias de forward y backward chaining para hacer las consultas. Lo que necesitamos ahora es una implementación de la base de conocimiento en python. \n",
    "\n",
    "Una base de conocimiento tiene dos partes: \n",
    "\n",
    "* Los datos, que son literales que ya sabemos como verdaderos; \n",
    "* Las reglas, que representan el conocimiento que se aplicará sobre los datos para obtener nuevos datos.\n",
    "\n",
    "Implementaremos una base de conocimiento mediante la clase `LPQuery`, que se encuentra en la librería `logica`:"
   ]
  },
  {
   "cell_type": "code",
   "execution_count": 16,
   "metadata": {},
   "outputs": [],
   "source": [
    "from logica import LPQuery\n",
    "from copy import deepcopy"
   ]
  },
  {
   "cell_type": "markdown",
   "metadata": {},
   "source": [
    "Inicializamos una base de conocimiento con el ejemplo de las diapositivas:"
   ]
  },
  {
   "cell_type": "code",
   "execution_count": 30,
   "metadata": {},
   "outputs": [
    {
     "name": "stdout",
     "output_type": "stream",
     "text": [
      "Datos:\n",
      "s\n",
      "p\n",
      "\n",
      "Reglas:\n",
      "q>r\n",
      "pYs>r\n",
      "\n"
     ]
    }
   ],
   "source": [
    "formulas = ['q>r','pYs>r','s','p']\n",
    "base_ejemplo = LPQuery(formulas)\n",
    "print(base_ejemplo)"
   ]
  },
  {
   "cell_type": "markdown",
   "metadata": {},
   "source": [
    "La clase `LPQuery` tiene los siguientes atributos:\n",
    "\n",
    "* datos: lista de literales que ya sabemos como verdaderos.\n",
    "* reglas: lista de reglas que representan el conocimiento.\n",
    "* atomos: lista de los átomos que aparecen en los datos y las reglas.\n",
    "\n",
    "También tiene los siguientes métodos:\n",
    "\n",
    "* reglas_aplicables(`literal`): que devuelve una lista de reglas en la base cuya cabeza es el `literal`.\n",
    "* test_objetivo(`literal`): que devuelve verdadero si el `literal` está en los datos. \n",
    "* TELL(`formula`): que incluye en la base de conocimiento la `formula`en el lugar adecuado, dependiendo de si es un dato o una regla."
   ]
  },
  {
   "cell_type": "markdown",
   "metadata": {},
   "source": [
    "## Forward chaining <a class=\"anchor\" id=\"forward\"></a>"
   ]
  },
  {
   "cell_type": "markdown",
   "metadata": {},
   "source": [
    "El siguiente es el pseudo código de la función `pl_fc_entails`, que implementa la estratégia de deducción forward chaining:\n",
    "\n",
    "<img src=\"./imagenes/forward-chaining.png\" width=\"550\"/>"
   ]
  },
  {
   "cell_type": "markdown",
   "metadata": {},
   "source": [
    "**Ejercicio 2:**\n",
    "\n",
    "Implemente un código python con el algoritmo `pl_fc_entails`. Verifique cuáles de las letras 'p', 'q', 'r', o 's' se puede deducir a partir de la base de conocimiento creada anteriormente.\n",
    "\n",
    "**Nota:** Observe que al inicializar `queue`como la lista de literales en los datos, es importante que `queue` sea una copia. Si se usa la instrucción `queue=base.datos`, entonces al modificar `queue` se modifica también `base.datos`. Para que no suceda esto, se puede utilizar `queue=deepcopy(base.datos)` (observe que hay que importar `deepcopy` de la libería `copy`)."
   ]
  },
  {
   "cell_type": "markdown",
   "metadata": {},
   "source": [
    "La respuesta debe ser:\n",
    "\n",
    "```\n",
    "El átomo p se deduce de la base?: True\n",
    "El átomo q se deduce de la base?: False\n",
    "El átomo r se deduce de la base?: True\n",
    "El átomo s se deduce de la base?: True\n",
    "```"
   ]
  },
  {
   "cell_type": "code",
   "execution_count": 142,
   "metadata": {},
   "outputs": [],
   "source": [
    "def pl_fc_entails(KB,q:str) -> bool:\n",
    "    count = { e.nombre:len(e.cuerpo) for e in KB.reglas }\n",
    "    inferred = { i:False for i in KB.atomos }\n",
    "    queue = deepcopy(KB.datos)\n",
    "    \n",
    "    while len(queue) != 0:\n",
    "        p = queue.pop()\n",
    "        \n",
    "        if q == p:\n",
    "            return True\n",
    "        \n",
    "        if inferred[p] == False:\n",
    "            inferred[p] = True\n",
    "            \n",
    "            for c in KB.reglas:\n",
    "                count[c.nombre] -= 1\n",
    "                if count[c.nombre] == 0:\n",
    "                    queue.append(c.cabeza)\n",
    "                \n",
    "    return False\n",
    "\n",
    "defprint_test = lambda KB,q: print(f\"El átomo {q} se reduce de la base?: {pl_fc_entails(KB,q)}\")"
   ]
  },
  {
   "cell_type": "code",
   "execution_count": 143,
   "metadata": {},
   "outputs": [
    {
     "name": "stdout",
     "output_type": "stream",
     "text": [
      "El átomo p se reduce de la base?: True\n",
      "El átomo q se reduce de la base?: False\n",
      "El átomo r se reduce de la base?: True\n",
      "El átomo s se reduce de la base?: True\n"
     ]
    }
   ],
   "source": [
    "print_test(base_ejemplo,'p')\n",
    "print_test(base_ejemplo,'q')\n",
    "print_test(base_ejemplo,'r')\n",
    "print_test(base_ejemplo,'s')"
   ]
  },
  {
   "cell_type": "markdown",
   "metadata": {},
   "source": [
    "---"
   ]
  },
  {
   "cell_type": "markdown",
   "metadata": {},
   "source": [
    "## Backward chaining <a class=\"anchor\" id=\"backward\"></a>"
   ]
  },
  {
   "cell_type": "markdown",
   "metadata": {},
   "source": [
    "El siguiente es el pseudocódigo de la función `and_or_graph_search`, el cual implementa la estratégia de deducción backward chaining:\n",
    "\n",
    "<img src=\"./imagenes/and-or-graph-search.png\" width=\"520\"/>\n",
    "<img src=\"./imagenes/or-search1.png\" width=\"490\"/>\n",
    "<img src=\"./imagenes/and-search.png\" width=\"500\"/>\n"
   ]
  },
  {
   "cell_type": "markdown",
   "metadata": {},
   "source": [
    "**Ejercicio 3:**\n",
    "\n",
    "Implemente un código python con el algoritmo `and_or_graph_search`. Verifique cuáles de las letras 'p', 'q', 'r', o 's' se puede deducir a partir de la base de conocimiento creada anteriormente."
   ]
  },
  {
   "cell_type": "code",
   "execution_count": 151,
   "metadata": {},
   "outputs": [
    {
     "ename": "AttributeError",
     "evalue": "'str' object has no attribute 'test_objetivo'",
     "output_type": "error",
     "traceback": [
      "\u001b[0;31m---------------------------------------------------------------------------\u001b[0m",
      "\u001b[0;31mAttributeError\u001b[0m                            Traceback (most recent call last)",
      "\u001b[0;32m/tmp/ipykernel_7230/330078630.py\u001b[0m in \u001b[0;36m<module>\u001b[0;34m\u001b[0m\n\u001b[1;32m     24\u001b[0m \u001b[0;34m\u001b[0m\u001b[0m\n\u001b[1;32m     25\u001b[0m \u001b[0;34m\u001b[0m\u001b[0m\n\u001b[0;32m---> 26\u001b[0;31m \u001b[0mand_or_graph_search\u001b[0m\u001b[0;34m(\u001b[0m\u001b[0mbase_ejemplo\u001b[0m\u001b[0;34m,\u001b[0m\u001b[0;34m'p'\u001b[0m\u001b[0;34m)\u001b[0m\u001b[0;34m\u001b[0m\u001b[0;34m\u001b[0m\u001b[0m\n\u001b[0m",
      "\u001b[0;32m/tmp/ipykernel_7230/330078630.py\u001b[0m in \u001b[0;36mand_or_graph_search\u001b[0;34m(head, base)\u001b[0m\n\u001b[1;32m     21\u001b[0m \u001b[0;34m\u001b[0m\u001b[0m\n\u001b[1;32m     22\u001b[0m \u001b[0;32mdef\u001b[0m \u001b[0mand_or_graph_search\u001b[0m\u001b[0;34m(\u001b[0m\u001b[0mhead\u001b[0m\u001b[0;34m:\u001b[0m\u001b[0mstr\u001b[0m\u001b[0;34m,\u001b[0m\u001b[0mbase\u001b[0m\u001b[0;34m)\u001b[0m \u001b[0;34m->\u001b[0m \u001b[0mbool\u001b[0m\u001b[0;34m:\u001b[0m\u001b[0;34m\u001b[0m\u001b[0;34m\u001b[0m\u001b[0m\n\u001b[0;32m---> 23\u001b[0;31m     \u001b[0;32mreturn\u001b[0m \u001b[0mor_search\u001b[0m\u001b[0;34m(\u001b[0m\u001b[0mhead\u001b[0m\u001b[0;34m,\u001b[0m\u001b[0mbase\u001b[0m\u001b[0;34m,\u001b[0m\u001b[0;34m[\u001b[0m\u001b[0;34m]\u001b[0m\u001b[0;34m)\u001b[0m\u001b[0;34m\u001b[0m\u001b[0;34m\u001b[0m\u001b[0m\n\u001b[0m\u001b[1;32m     24\u001b[0m \u001b[0;34m\u001b[0m\u001b[0m\n\u001b[1;32m     25\u001b[0m \u001b[0;34m\u001b[0m\u001b[0m\n",
      "\u001b[0;32m/tmp/ipykernel_7230/330078630.py\u001b[0m in \u001b[0;36mor_search\u001b[0;34m(head, base, camino)\u001b[0m\n\u001b[1;32m      7\u001b[0m \u001b[0;34m\u001b[0m\u001b[0m\n\u001b[1;32m      8\u001b[0m \u001b[0;32mdef\u001b[0m \u001b[0mor_search\u001b[0m\u001b[0;34m(\u001b[0m\u001b[0mhead\u001b[0m\u001b[0;34m,\u001b[0m\u001b[0mbase\u001b[0m\u001b[0;34m,\u001b[0m\u001b[0mcamino\u001b[0m\u001b[0;34m)\u001b[0m \u001b[0;34m->\u001b[0m \u001b[0mbool\u001b[0m\u001b[0;34m:\u001b[0m\u001b[0;34m\u001b[0m\u001b[0;34m\u001b[0m\u001b[0m\n\u001b[0;32m----> 9\u001b[0;31m     \u001b[0;32mif\u001b[0m \u001b[0mbase\u001b[0m\u001b[0;34m.\u001b[0m\u001b[0mtest_objetivo\u001b[0m\u001b[0;34m(\u001b[0m\u001b[0mhead\u001b[0m\u001b[0;34m)\u001b[0m\u001b[0;34m:\u001b[0m\u001b[0;34m\u001b[0m\u001b[0;34m\u001b[0m\u001b[0m\n\u001b[0m\u001b[1;32m     10\u001b[0m         \u001b[0;32mreturn\u001b[0m \u001b[0;32mTrue\u001b[0m\u001b[0;34m\u001b[0m\u001b[0;34m\u001b[0m\u001b[0m\n\u001b[1;32m     11\u001b[0m     \u001b[0;32melif\u001b[0m \u001b[0mhead\u001b[0m \u001b[0;32min\u001b[0m \u001b[0mcamino\u001b[0m\u001b[0;34m:\u001b[0m\u001b[0;34m\u001b[0m\u001b[0;34m\u001b[0m\u001b[0m\n",
      "\u001b[0;31mAttributeError\u001b[0m: 'str' object has no attribute 'test_objetivo'"
     ]
    }
   ],
   "source": [
    "def and_search(literales,base,camino) -> bool:\n",
    "    for head in literales:\n",
    "        plan = or_search(head, base, camino)\n",
    "        if plan == False:\n",
    "            return False\n",
    "    return True\n",
    "\n",
    "def or_search(head,base,camino) -> bool:\n",
    "    if base.test_objetivo(head):\n",
    "        return True\n",
    "    elif head in camino:\n",
    "        return False\n",
    "    \n",
    "    for regla in base.reglas_aplicables(head):\n",
    "        camino_ = head + camino\n",
    "        resultado = and_search(regla.cuerpo,base,comino_)\n",
    "        if resultado == True:\n",
    "            return True\n",
    "        \n",
    "    return True\n",
    "\n",
    "def and_or_graph_search(head:str,base) -> bool:\n",
    "    return or_search(head,base,[])\n",
    "    \n",
    "    \n",
    "and_or_graph_search(base_ejemplo,'p')"
   ]
  },
  {
   "cell_type": "markdown",
   "metadata": {},
   "source": [
    "La respuesta debe ser:\n",
    "\n",
    "```\n",
    "El átomo p se deduce de la base?: success\n",
    "El átomo q se deduce de la base?: failure\n",
    "El átomo r se deduce de la base?: success\n",
    "El átomo s se deduce de la base?: success\n",
    "```"
   ]
  },
  {
   "cell_type": "markdown",
   "metadata": {},
   "source": [
    "---"
   ]
  },
  {
   "cell_type": "markdown",
   "metadata": {},
   "source": [
    "## Resolviendo el problema de la tabla 2x2 mediante una base de conocimiento\n",
    "\n",
    "En esta sección vamos a ver que es posible crear una base de conocimiento para resolver el problema de la tabla 2x2, con el cual comenzamos este notebook. Tenemos tres restricciones que debemos implementar para resolver el problema:\n",
    "\n",
    "1. Un número sólo está en una casilla.\n",
    "2. No hay más de un número en una casilla.\n",
    "3. Debe haber por lo menos un número en una casilla.\n",
    "\n",
    "Veremos que no es difícil incluir las restricciones 1 y 2 como reglas en una base de conocimiento. La restricción 3 genera dificultades, sobre las cuales volveremos más adelante.\n",
    "\n",
    "Comencemos por considerar la restricción 1, que dice que un número sólo está en una casilla. En las diapositivas habíamos desarrollado la siguiente fórmula:\n",
    "\n",
    "$$\\bigwedge_{n\\in Numeros} \\left(\\bigwedge_{x\\in Lugares} \\left(OenL_{n,x}\\to\\neg\\left(\\bigvee_{y\\in Lugares-\\{x\\}} OenL_{n,y}\\right)\\right)\\right)$$\n",
    "\n",
    "\n",
    "La primera dificultad con que nos topamos es que esta fórmula no pertenece al lenguaje de las reglas. No obstante, observe que podemos escribir la restricción 1 alternativamente como la siguiente ytoria:\n",
    "\n",
    "$$\\bigwedge_{n\\in Numeros}\\,\\bigwedge_{x\\in Lugares}\\,\\bigwedge_{y\\in Lugares-\\{x\\}}\\left(OenL_{n,x}\\to\\neg OenL_{n,y}\\right)$$\n",
    "\n",
    "Lo bueno de esta fórmula es que la podemos considerar como un gran número de reglas:\n",
    "\n",
    "* $OenL_{0,arriba\\, izquiera}\\to\\neg OenL_{0,arriba\\, derecha}$\n",
    "* $OenL_{0,arriba\\, izquiera}\\to\\neg OenL_{0,abajo\\, izquierda}$\n",
    "* $OenL_{0,arriba\\, izquiera}\\to\\neg OenL_{0,abajo\\, derecha}$\n",
    "* $OenL_{1,arriba\\, izquiera}\\to\\neg OenL_{1,arriba\\, derecha}$\n",
    "* $\\vdots$\n",
    "\n",
    "Podemos implementar esta lista de reglas así:"
   ]
  },
  {
   "cell_type": "code",
   "execution_count": 125,
   "metadata": {},
   "outputs": [],
   "source": [
    "reglas1 = []\n",
    "for n in range(Nnumeros):\n",
    "    for x in range(Nlugares):\n",
    "        otros_lugares = [y for y in list(range(Nlugares)) if y != x]\n",
    "        for y in otros_lugares:\n",
    "            reglas1.append(OenL.P([n,x]) + \">\" + \"-\" + OenL.P([n,y]))"
   ]
  },
  {
   "cell_type": "markdown",
   "metadata": {},
   "source": [
    "Mediante el siguiente código podemos visualizar las reglas en nuestra lista:"
   ]
  },
  {
   "cell_type": "code",
   "execution_count": 126,
   "metadata": {},
   "outputs": [
    {
     "name": "stdout",
     "output_type": "stream",
     "text": [
      "El número 0 está arriba izquierda > El número 0 no está arriba derecha\n",
      "El número 0 está arriba izquierda > El número 0 no está abajo izquierda\n",
      "El número 0 está arriba izquierda > El número 0 no está abajo derecha\n",
      "El número 0 está arriba derecha > El número 0 no está arriba izquierda\n",
      "El número 0 está arriba derecha > El número 0 no está abajo izquierda\n",
      "El número 0 está arriba derecha > El número 0 no está abajo derecha\n",
      "El número 0 está abajo izquierda > El número 0 no está arriba izquierda\n",
      "El número 0 está abajo izquierda > El número 0 no está arriba derecha\n",
      "El número 0 está abajo izquierda > El número 0 no está abajo derecha\n",
      "El número 0 está abajo derecha > El número 0 no está arriba izquierda\n",
      "El número 0 está abajo derecha > El número 0 no está arriba derecha\n",
      "El número 0 está abajo derecha > El número 0 no está abajo izquierda\n",
      "El número 1 está arriba izquierda > El número 1 no está arriba derecha\n",
      "El número 1 está arriba izquierda > El número 1 no está abajo izquierda\n",
      "El número 1 está arriba izquierda > El número 1 no está abajo derecha\n",
      "El número 1 está arriba derecha > El número 1 no está arriba izquierda\n",
      "El número 1 está arriba derecha > El número 1 no está abajo izquierda\n",
      "El número 1 está arriba derecha > El número 1 no está abajo derecha\n",
      "El número 1 está abajo izquierda > El número 1 no está arriba izquierda\n",
      "El número 1 está abajo izquierda > El número 1 no está arriba derecha\n",
      "El número 1 está abajo izquierda > El número 1 no está abajo derecha\n",
      "El número 1 está abajo derecha > El número 1 no está arriba izquierda\n",
      "El número 1 está abajo derecha > El número 1 no está arriba derecha\n",
      "El número 1 está abajo derecha > El número 1 no está abajo izquierda\n",
      "El número 2 está arriba izquierda > El número 2 no está arriba derecha\n",
      "El número 2 está arriba izquierda > El número 2 no está abajo izquierda\n",
      "El número 2 está arriba izquierda > El número 2 no está abajo derecha\n",
      "El número 2 está arriba derecha > El número 2 no está arriba izquierda\n",
      "El número 2 está arriba derecha > El número 2 no está abajo izquierda\n",
      "El número 2 está arriba derecha > El número 2 no está abajo derecha\n",
      "El número 2 está abajo izquierda > El número 2 no está arriba izquierda\n",
      "El número 2 está abajo izquierda > El número 2 no está arriba derecha\n",
      "El número 2 está abajo izquierda > El número 2 no está abajo derecha\n",
      "El número 2 está abajo derecha > El número 2 no está arriba izquierda\n",
      "El número 2 está abajo derecha > El número 2 no está arriba derecha\n",
      "El número 2 está abajo derecha > El número 2 no está abajo izquierda\n",
      "El número 3 está arriba izquierda > El número 3 no está arriba derecha\n",
      "El número 3 está arriba izquierda > El número 3 no está abajo izquierda\n",
      "El número 3 está arriba izquierda > El número 3 no está abajo derecha\n",
      "El número 3 está arriba derecha > El número 3 no está arriba izquierda\n",
      "El número 3 está arriba derecha > El número 3 no está abajo izquierda\n",
      "El número 3 está arriba derecha > El número 3 no está abajo derecha\n",
      "El número 3 está abajo izquierda > El número 3 no está arriba izquierda\n",
      "El número 3 está abajo izquierda > El número 3 no está arriba derecha\n",
      "El número 3 está abajo izquierda > El número 3 no está abajo derecha\n",
      "El número 3 está abajo derecha > El número 3 no está arriba izquierda\n",
      "El número 3 está abajo derecha > El número 3 no está arriba derecha\n",
      "El número 3 está abajo derecha > El número 3 no está abajo izquierda\n"
     ]
    }
   ],
   "source": [
    "from logica import ClausulaDefinida\n",
    "reglas_objeto = [ClausulaDefinida(r) for r in reglas1]\n",
    "for r in reglas_objeto:\n",
    "    print(OenL.escribir(r.cuerpo[0]) + \" > \" + OenL.escribir(r.cabeza))"
   ]
  },
  {
   "cell_type": "markdown",
   "metadata": {},
   "source": [
    "**Ejercicio 4:**\n",
    "\n",
    "Escriba un código para incluir las reglas de la restricción 2, la cual estipula que no hay más de un número en una casilla. Esta regla se puede reescribir así:\n",
    "\n",
    "$$\\bigwedge_{n\\in Numeros}\\,\\bigwedge_{x\\in Lugares}\\,\\bigwedge_{m\\in Numeros-\\{n\\}}\\left(OenL_{n,x}\\to\\neg OenL_{m,x}\\right)$$"
   ]
  },
  {
   "cell_type": "code",
   "execution_count": 127,
   "metadata": {},
   "outputs": [],
   "source": [
    "reglas2 = []\n",
    "for n in range(Nnumeros):\n",
    "    for x in range(Nlugares):\n",
    "        otros_num = [m for m in list(range(Nnumeros)) if m != n]\n",
    "        for m in otros_num:\n",
    "            reglas2.append(OenL.P([n,x]) + \">\" + \"-\" + OenL.P([m,x]))"
   ]
  },
  {
   "cell_type": "markdown",
   "metadata": {},
   "source": [
    "Al correr el siguiente código se debe obtener la siguiente respuesta:\n",
    "\n",
    "```\n",
    "El número 0 está arriba izquierda > El número 1 no está arriba izquierda\n",
    "El número 0 está arriba izquierda > El número 2 no está arriba izquierda\n",
    "El número 0 está arriba izquierda > El número 3 no está arriba izquierda\n",
    "El número 0 está arriba derecha > El número 1 no está arriba derecha\n",
    "El número 0 está arriba derecha > El número 2 no está arriba derecha\n",
    "El número 0 está arriba derecha > El número 3 no está arriba derecha\n",
    "El número 0 está abajo izquierda > El número 1 no está abajo izquierda\n",
    "El número 0 está abajo izquierda > El número 2 no está abajo izquierda\n",
    "El número 0 está abajo izquierda > El número 3 no está abajo izquierda\n",
    "El número 0 está abajo derecha > El número 1 no está abajo derecha\n",
    "El número 0 está abajo derecha > El número 2 no está abajo derecha\n",
    "El número 0 está abajo derecha > El número 3 no está abajo derecha\n",
    "El número 1 está arriba izquierda > El número 0 no está arriba izquierda\n",
    "El número 1 está arriba izquierda > El número 2 no está arriba izquierda\n",
    "El número 1 está arriba izquierda > El número 3 no está arriba izquierda\n",
    "El número 1 está arriba derecha > El número 0 no está arriba derecha\n",
    "El número 1 está arriba derecha > El número 2 no está arriba derecha\n",
    "El número 1 está arriba derecha > El número 3 no está arriba derecha\n",
    "El número 1 está abajo izquierda > El número 0 no está abajo izquierda\n",
    "El número 1 está abajo izquierda > El número 2 no está abajo izquierda\n",
    "El número 1 está abajo izquierda > El número 3 no está abajo izquierda\n",
    "El número 1 está abajo derecha > El número 0 no está abajo derecha\n",
    "El número 1 está abajo derecha > El número 2 no está abajo derecha\n",
    "El número 1 está abajo derecha > El número 3 no está abajo derecha\n",
    "El número 2 está arriba izquierda > El número 0 no está arriba izquierda\n",
    "El número 2 está arriba izquierda > El número 1 no está arriba izquierda\n",
    "El número 2 está arriba izquierda > El número 3 no está arriba izquierda\n",
    "El número 2 está arriba derecha > El número 0 no está arriba derecha\n",
    "El número 2 está arriba derecha > El número 1 no está arriba derecha\n",
    "El número 2 está arriba derecha > El número 3 no está arriba derecha\n",
    "El número 2 está abajo izquierda > El número 0 no está abajo izquierda\n",
    "El número 2 está abajo izquierda > El número 1 no está abajo izquierda\n",
    "El número 2 está abajo izquierda > El número 3 no está abajo izquierda\n",
    "El número 2 está abajo derecha > El número 0 no está abajo derecha\n",
    "El número 2 está abajo derecha > El número 1 no está abajo derecha\n",
    "El número 2 está abajo derecha > El número 3 no está abajo derecha\n",
    "El número 3 está arriba izquierda > El número 0 no está arriba izquierda\n",
    "El número 3 está arriba izquierda > El número 1 no está arriba izquierda\n",
    "El número 3 está arriba izquierda > El número 2 no está arriba izquierda\n",
    "El número 3 está arriba derecha > El número 0 no está arriba derecha\n",
    "El número 3 está arriba derecha > El número 1 no está arriba derecha\n",
    "El número 3 está arriba derecha > El número 2 no está arriba derecha\n",
    "El número 3 está abajo izquierda > El número 0 no está abajo izquierda\n",
    "El número 3 está abajo izquierda > El número 1 no está abajo izquierda\n",
    "El número 3 está abajo izquierda > El número 2 no está abajo izquierda\n",
    "El número 3 está abajo derecha > El número 0 no está abajo derecha\n",
    "El número 3 está abajo derecha > El número 1 no está abajo derecha\n",
    "El número 3 está abajo derecha > El número 2 no está abajo derecha\n",
    "```"
   ]
  },
  {
   "cell_type": "code",
   "execution_count": 128,
   "metadata": {},
   "outputs": [
    {
     "name": "stdout",
     "output_type": "stream",
     "text": [
      "El número 0 está arriba izquierda > El número 1 no está arriba izquierda\n",
      "El número 0 está arriba izquierda > El número 2 no está arriba izquierda\n",
      "El número 0 está arriba izquierda > El número 3 no está arriba izquierda\n",
      "El número 0 está arriba derecha > El número 1 no está arriba derecha\n",
      "El número 0 está arriba derecha > El número 2 no está arriba derecha\n",
      "El número 0 está arriba derecha > El número 3 no está arriba derecha\n",
      "El número 0 está abajo izquierda > El número 1 no está abajo izquierda\n",
      "El número 0 está abajo izquierda > El número 2 no está abajo izquierda\n",
      "El número 0 está abajo izquierda > El número 3 no está abajo izquierda\n",
      "El número 0 está abajo derecha > El número 1 no está abajo derecha\n",
      "El número 0 está abajo derecha > El número 2 no está abajo derecha\n",
      "El número 0 está abajo derecha > El número 3 no está abajo derecha\n",
      "El número 1 está arriba izquierda > El número 0 no está arriba izquierda\n",
      "El número 1 está arriba izquierda > El número 2 no está arriba izquierda\n",
      "El número 1 está arriba izquierda > El número 3 no está arriba izquierda\n",
      "El número 1 está arriba derecha > El número 0 no está arriba derecha\n",
      "El número 1 está arriba derecha > El número 2 no está arriba derecha\n",
      "El número 1 está arriba derecha > El número 3 no está arriba derecha\n",
      "El número 1 está abajo izquierda > El número 0 no está abajo izquierda\n",
      "El número 1 está abajo izquierda > El número 2 no está abajo izquierda\n",
      "El número 1 está abajo izquierda > El número 3 no está abajo izquierda\n",
      "El número 1 está abajo derecha > El número 0 no está abajo derecha\n",
      "El número 1 está abajo derecha > El número 2 no está abajo derecha\n",
      "El número 1 está abajo derecha > El número 3 no está abajo derecha\n",
      "El número 2 está arriba izquierda > El número 0 no está arriba izquierda\n",
      "El número 2 está arriba izquierda > El número 1 no está arriba izquierda\n",
      "El número 2 está arriba izquierda > El número 3 no está arriba izquierda\n",
      "El número 2 está arriba derecha > El número 0 no está arriba derecha\n",
      "El número 2 está arriba derecha > El número 1 no está arriba derecha\n",
      "El número 2 está arriba derecha > El número 3 no está arriba derecha\n",
      "El número 2 está abajo izquierda > El número 0 no está abajo izquierda\n",
      "El número 2 está abajo izquierda > El número 1 no está abajo izquierda\n",
      "El número 2 está abajo izquierda > El número 3 no está abajo izquierda\n",
      "El número 2 está abajo derecha > El número 0 no está abajo derecha\n",
      "El número 2 está abajo derecha > El número 1 no está abajo derecha\n",
      "El número 2 está abajo derecha > El número 3 no está abajo derecha\n",
      "El número 3 está arriba izquierda > El número 0 no está arriba izquierda\n",
      "El número 3 está arriba izquierda > El número 1 no está arriba izquierda\n",
      "El número 3 está arriba izquierda > El número 2 no está arriba izquierda\n",
      "El número 3 está arriba derecha > El número 0 no está arriba derecha\n",
      "El número 3 está arriba derecha > El número 1 no está arriba derecha\n",
      "El número 3 está arriba derecha > El número 2 no está arriba derecha\n",
      "El número 3 está abajo izquierda > El número 0 no está abajo izquierda\n",
      "El número 3 está abajo izquierda > El número 1 no está abajo izquierda\n",
      "El número 3 está abajo izquierda > El número 2 no está abajo izquierda\n",
      "El número 3 está abajo derecha > El número 0 no está abajo derecha\n",
      "El número 3 está abajo derecha > El número 1 no está abajo derecha\n",
      "El número 3 está abajo derecha > El número 2 no está abajo derecha\n"
     ]
    }
   ],
   "source": [
    "reglas_objeto = [ClausulaDefinida(r) for r in reglas2]\n",
    "for r in reglas_objeto:\n",
    "    print(OenL.escribir(r.cuerpo[0]) + \" > \" + OenL.escribir(r.cabeza))"
   ]
  },
  {
   "cell_type": "markdown",
   "metadata": {},
   "source": [
    "---"
   ]
  },
  {
   "cell_type": "markdown",
   "metadata": {},
   "source": [
    "Una vez tenemos nuestra lista de reglas, procedemos a crear la base de conocimiento:"
   ]
  },
  {
   "cell_type": "code",
   "execution_count": 129,
   "metadata": {},
   "outputs": [],
   "source": [
    "base = LPQuery(reglas1 + reglas2)"
   ]
  },
  {
   "cell_type": "markdown",
   "metadata": {},
   "source": [
    "Esta base no contiene ningún dato, solo reglas. En esta situación no es posible hacer ninguna inferencia. Si le preguntamos a la base si, digamos, el número 0 está arriba a la izquierda, la consulta va a fallar:"
   ]
  },
  {
   "cell_type": "code",
   "execution_count": 130,
   "metadata": {},
   "outputs": [
    {
     "ename": "NameError",
     "evalue": "name 'and_or_graph_search' is not defined",
     "output_type": "error",
     "traceback": [
      "\u001b[0;31m---------------------------------------------------------------------------\u001b[0m",
      "\u001b[0;31mNameError\u001b[0m                                 Traceback (most recent call last)",
      "\u001b[0;32m/tmp/ipykernel_7230/2871401403.py\u001b[0m in \u001b[0;36m<module>\u001b[0;34m\u001b[0m\n\u001b[1;32m      1\u001b[0m \u001b[0mobjetivo\u001b[0m \u001b[0;34m=\u001b[0m \u001b[0mOenL\u001b[0m\u001b[0;34m.\u001b[0m\u001b[0mP\u001b[0m\u001b[0;34m(\u001b[0m\u001b[0;34m[\u001b[0m\u001b[0;36m0\u001b[0m\u001b[0;34m,\u001b[0m\u001b[0;36m0\u001b[0m\u001b[0;34m]\u001b[0m\u001b[0;34m)\u001b[0m\u001b[0;34m\u001b[0m\u001b[0;34m\u001b[0m\u001b[0m\n\u001b[0;32m----> 2\u001b[0;31m \u001b[0mand_or_graph_search\u001b[0m\u001b[0;34m(\u001b[0m\u001b[0mobjetivo\u001b[0m\u001b[0;34m,\u001b[0m \u001b[0mbase\u001b[0m\u001b[0;34m)\u001b[0m\u001b[0;34m\u001b[0m\u001b[0;34m\u001b[0m\u001b[0m\n\u001b[0m",
      "\u001b[0;31mNameError\u001b[0m: name 'and_or_graph_search' is not defined"
     ]
    }
   ],
   "source": [
    "objetivo = OenL.P([0,0])\n",
    "and_or_graph_search(objetivo, base)"
   ]
  },
  {
   "cell_type": "markdown",
   "metadata": {},
   "source": [
    "Esto ocurre porque las reglas funcionan para deducir nuevos datos a partir de datos conocidos. Si no conocemos ningún dato, no podremos deducir nada. Esta limitación ocurre porque en el fragmento de la lógica proposicional que estamos considerando no podemos escribir sino datos y reglas. \n",
    "\n",
    "Restricciones como la tercera del problema de la tabla 2x2, la cual estipula que debe haber por lo menos un número en cada celda, también son problemáticas para el lenguaje tan sencillo que estamos considerando. En efecto, no podemos escribir la siguiente fórmula como una regla:\n",
    "\n",
    "$$OenL_{0, arriba\\, izquierda}\\vee OenL_{0, arriba\\, derecha}\\vee OenL_{0, abajo\\, izquierda}\\vee OenL_{0, abajo\\, derecha}$$\n",
    "\n",
    "Lo que sí podemos hacer es usar esta base para hacer consultas de si está **prohibido** que un número esté en un lugar dado. Ahora bien, observe que en el estado inicial, en el cual la tabla 2x2 todavía está vacía, no hay prohibición de que un número esté en alguna casilla. Así que hagámos la búsqueda más interesante. Supongamos que hemos puesto el 0 arriba a la izquierda, el 2 arriba a la derecha y el 3 abajo a la izquierda, e incluyamos esta información en la base de conocimiento:  "
   ]
  },
  {
   "cell_type": "code",
   "execution_count": 131,
   "metadata": {},
   "outputs": [
    {
     "name": "stdout",
     "output_type": "stream",
     "text": [
      "['Ā', 'Ć', 'ċ']\n"
     ]
    }
   ],
   "source": [
    "base.TELL(OenL.P([0,0]))\n",
    "base.TELL(OenL.P([2,1]))\n",
    "base.TELL(OenL.P([3,2]))\n",
    "print(base.datos)"
   ]
  },
  {
   "cell_type": "markdown",
   "metadata": {},
   "source": [
    "Nos preguntamos ahora si, dada la información que tenemos a nuestra disposición, está prohibido que el número 1 esté abajo a la derecha:"
   ]
  },
  {
   "cell_type": "code",
   "execution_count": 132,
   "metadata": {},
   "outputs": [
    {
     "ename": "NameError",
     "evalue": "name 'and_or_graph_search' is not defined",
     "output_type": "error",
     "traceback": [
      "\u001b[0;31m---------------------------------------------------------------------------\u001b[0m",
      "\u001b[0;31mNameError\u001b[0m                                 Traceback (most recent call last)",
      "\u001b[0;32m/tmp/ipykernel_7230/2223674816.py\u001b[0m in \u001b[0;36m<module>\u001b[0;34m\u001b[0m\n\u001b[1;32m      1\u001b[0m \u001b[0mobjetivo\u001b[0m \u001b[0;34m=\u001b[0m \u001b[0mOenL\u001b[0m\u001b[0;34m.\u001b[0m\u001b[0mP\u001b[0m\u001b[0;34m(\u001b[0m\u001b[0;34m[\u001b[0m\u001b[0;36m1\u001b[0m\u001b[0;34m,\u001b[0m\u001b[0;36m3\u001b[0m\u001b[0;34m]\u001b[0m\u001b[0;34m)\u001b[0m\u001b[0;34m\u001b[0m\u001b[0;34m\u001b[0m\u001b[0m\n\u001b[0;32m----> 2\u001b[0;31m \u001b[0mpermiso\u001b[0m \u001b[0;34m=\u001b[0m \u001b[0mand_or_graph_search\u001b[0m\u001b[0;34m(\u001b[0m\u001b[0;34m\"-\"\u001b[0m \u001b[0;34m+\u001b[0m \u001b[0mobjetivo\u001b[0m\u001b[0;34m,\u001b[0m \u001b[0mbase\u001b[0m\u001b[0;34m)\u001b[0m\u001b[0;34m\u001b[0m\u001b[0;34m\u001b[0m\u001b[0m\n\u001b[0m\u001b[1;32m      3\u001b[0m \u001b[0mprint\u001b[0m\u001b[0;34m(\u001b[0m\u001b[0;34mf\"El objetivo '{OenL.escribir(objetivo)}' está prohibido?: {permiso}\"\u001b[0m\u001b[0;34m)\u001b[0m\u001b[0;34m\u001b[0m\u001b[0;34m\u001b[0m\u001b[0m\n",
      "\u001b[0;31mNameError\u001b[0m: name 'and_or_graph_search' is not defined"
     ]
    }
   ],
   "source": [
    "objetivo = OenL.P([1,3])\n",
    "permiso = and_or_graph_search(\"-\" + objetivo, base)\n",
    "print(f\"El objetivo '{OenL.escribir(objetivo)}' está prohibido?: {permiso}\")"
   ]
  },
  {
   "cell_type": "markdown",
   "metadata": {},
   "source": [
    "**Ejercicio 5:**\n",
    "\n",
    "Verifique que está prohibido poner cualquier otro número distinto al 1 abajo a la derecha."
   ]
  },
  {
   "cell_type": "markdown",
   "metadata": {},
   "source": [
    "---"
   ]
  },
  {
   "cell_type": "markdown",
   "metadata": {},
   "source": [
    "**Ejercicio opcional:**\n",
    "\n",
    "Intente verificar si el objetivo está prohibido trantando se deducir su negación mediante forward chaining a partir de la base de conocimiento."
   ]
  },
  {
   "cell_type": "markdown",
   "metadata": {},
   "source": [
    "---"
   ]
  },
  {
   "cell_type": "markdown",
   "metadata": {},
   "source": [
    "La estrategia es la siguiente. Suponemos que vamos a llenar la tabla de manera iterativa. Asumimos que lo que no está prohibido está permitido. De esta manera, usamos la consulta en la base de conocimiento para determinar si poner un número en una casilla está prohibido. \n",
    "\n",
    "Ahora, como pensar en dobles negaciones es extenuante, esta operación puede hacerse de manera más directa usando la función `ASK` definida por el siguiente pseudocódigo, e implementando la consulta tal y como aparece en las celdas subsiguientes:\n",
    "\n",
    "<img src=\"./imagenes/ask.png\" width=\"500\"/>\n",
    "\n",
    "La idea es que, para saber si un número puede ir en una casilla, preguntamos a la base de conocimiento si no está prohibido que esto sea así. Este efecto se obtiene al usar `ASK` sobre la negación del átomo con el valor `failure`."
   ]
  },
  {
   "cell_type": "code",
   "execution_count": 133,
   "metadata": {},
   "outputs": [],
   "source": [
    "def ASK(objetivo, valor, base):\n",
    "    ask = and_or_graph_search(objetivo, base)\n",
    "    return (ask == valor)"
   ]
  },
  {
   "cell_type": "code",
   "execution_count": 134,
   "metadata": {},
   "outputs": [
    {
     "ename": "NameError",
     "evalue": "name 'and_or_graph_search' is not defined",
     "output_type": "error",
     "traceback": [
      "\u001b[0;31m---------------------------------------------------------------------------\u001b[0m",
      "\u001b[0;31mNameError\u001b[0m                                 Traceback (most recent call last)",
      "\u001b[0;32m/tmp/ipykernel_7230/4168006197.py\u001b[0m in \u001b[0;36m<module>\u001b[0;34m\u001b[0m\n\u001b[1;32m      1\u001b[0m \u001b[0;32mfor\u001b[0m \u001b[0mn\u001b[0m \u001b[0;32min\u001b[0m \u001b[0mrange\u001b[0m\u001b[0;34m(\u001b[0m\u001b[0mNnumeros\u001b[0m\u001b[0;34m)\u001b[0m\u001b[0;34m:\u001b[0m\u001b[0;34m\u001b[0m\u001b[0;34m\u001b[0m\u001b[0m\n\u001b[1;32m      2\u001b[0m     \u001b[0mobjetivo\u001b[0m \u001b[0;34m=\u001b[0m \u001b[0mOenL\u001b[0m\u001b[0;34m.\u001b[0m\u001b[0mP\u001b[0m\u001b[0;34m(\u001b[0m\u001b[0;34m[\u001b[0m\u001b[0mn\u001b[0m\u001b[0;34m,\u001b[0m\u001b[0;36m3\u001b[0m\u001b[0;34m]\u001b[0m\u001b[0;34m)\u001b[0m\u001b[0;34m\u001b[0m\u001b[0;34m\u001b[0m\u001b[0m\n\u001b[0;32m----> 3\u001b[0;31m     \u001b[0mrespuesta\u001b[0m \u001b[0;34m=\u001b[0m \u001b[0mASK\u001b[0m\u001b[0;34m(\u001b[0m\u001b[0;34m\"-\"\u001b[0m \u001b[0;34m+\u001b[0m \u001b[0mobjetivo\u001b[0m\u001b[0;34m,\u001b[0m \u001b[0;34m'failure'\u001b[0m\u001b[0;34m,\u001b[0m \u001b[0mbase\u001b[0m\u001b[0;34m)\u001b[0m\u001b[0;34m\u001b[0m\u001b[0;34m\u001b[0m\u001b[0m\n\u001b[0m\u001b[1;32m      4\u001b[0m     \u001b[0mprint\u001b[0m\u001b[0;34m(\u001b[0m\u001b[0mOenL\u001b[0m\u001b[0;34m.\u001b[0m\u001b[0mescribir\u001b[0m\u001b[0;34m(\u001b[0m\u001b[0mobjetivo\u001b[0m\u001b[0;34m)\u001b[0m\u001b[0;34m,\u001b[0m \u001b[0;34m\"?:\"\u001b[0m\u001b[0;34m,\u001b[0m \u001b[0mrespuesta\u001b[0m\u001b[0;34m)\u001b[0m\u001b[0;34m\u001b[0m\u001b[0;34m\u001b[0m\u001b[0m\n",
      "\u001b[0;32m/tmp/ipykernel_7230/3343399641.py\u001b[0m in \u001b[0;36mASK\u001b[0;34m(objetivo, valor, base)\u001b[0m\n\u001b[1;32m      1\u001b[0m \u001b[0;32mdef\u001b[0m \u001b[0mASK\u001b[0m\u001b[0;34m(\u001b[0m\u001b[0mobjetivo\u001b[0m\u001b[0;34m,\u001b[0m \u001b[0mvalor\u001b[0m\u001b[0;34m,\u001b[0m \u001b[0mbase\u001b[0m\u001b[0;34m)\u001b[0m\u001b[0;34m:\u001b[0m\u001b[0;34m\u001b[0m\u001b[0;34m\u001b[0m\u001b[0m\n\u001b[0;32m----> 2\u001b[0;31m     \u001b[0mask\u001b[0m \u001b[0;34m=\u001b[0m \u001b[0mand_or_graph_search\u001b[0m\u001b[0;34m(\u001b[0m\u001b[0mobjetivo\u001b[0m\u001b[0;34m,\u001b[0m \u001b[0mbase\u001b[0m\u001b[0;34m)\u001b[0m\u001b[0;34m\u001b[0m\u001b[0;34m\u001b[0m\u001b[0m\n\u001b[0m\u001b[1;32m      3\u001b[0m     \u001b[0;32mreturn\u001b[0m \u001b[0;34m(\u001b[0m\u001b[0mask\u001b[0m \u001b[0;34m==\u001b[0m \u001b[0mvalor\u001b[0m\u001b[0;34m)\u001b[0m\u001b[0;34m\u001b[0m\u001b[0;34m\u001b[0m\u001b[0m\n",
      "\u001b[0;31mNameError\u001b[0m: name 'and_or_graph_search' is not defined"
     ]
    }
   ],
   "source": [
    "for n in range(Nnumeros):\n",
    "    objetivo = OenL.P([n,3]) \n",
    "    respuesta = ASK(\"-\" + objetivo, 'failure', base)\n",
    "    print(OenL.escribir(objetivo), \"?:\", respuesta)"
   ]
  },
  {
   "cell_type": "markdown",
   "metadata": {},
   "source": [
    "Podemos pensar que este tipo de consultas nos entrega una lista de acciones aplicables en un estado dado. De esta manera, resulta posible plantear el problema como una búsqueda en un espacio de estados."
   ]
  },
  {
   "cell_type": "markdown",
   "metadata": {},
   "source": [
    "## En este notebook usted aprendió\n",
    "\n",
    "* Algunos trucos para representar situaciones mediante lógica proposicional.\n",
    "* Las reglas como un fragmento de la lógica proposicional para la deducción automática.\n",
    "* El algoritmo de deducción mediante forward-chaining.\n",
    "* El algoritmo de deducción mediante backward-chaining.\n",
    "* La estructura de las bases de conocimiento.\n",
    "* Un uso posible de las bases de conocimiento.\n"
   ]
  }
 ],
 "metadata": {
  "kernelspec": {
   "display_name": "Python 3 (ipykernel)",
   "language": "python",
   "name": "python3"
  },
  "language_info": {
   "codemirror_mode": {
    "name": "ipython",
    "version": 3
   },
   "file_extension": ".py",
   "mimetype": "text/x-python",
   "name": "python",
   "nbconvert_exporter": "python",
   "pygments_lexer": "ipython3",
   "version": "3.8.10"
  }
 },
 "nbformat": 4,
 "nbformat_minor": 4
}
